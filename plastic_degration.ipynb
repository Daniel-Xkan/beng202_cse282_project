{
 "cells": [
  {
   "cell_type": "markdown",
   "metadata": {},
   "source": [
    "## Enhanced Plastic Degradation Using Optimized PETase Peptides for Dual PETase-PLAase Activity\n"
   ]
  },
  {
   "cell_type": "markdown",
   "metadata": {},
   "source": [
    "### step1: find K"
   ]
  },
  {
   "cell_type": "markdown",
   "metadata": {},
   "source": [
    "##### import"
   ]
  },
  {
   "cell_type": "code",
   "execution_count": 74,
   "metadata": {},
   "outputs": [
    {
     "name": "stdout",
     "output_type": "stream",
     "text": [
      "Requirement already satisfied: biopython in c:\\users\\xuech\\appdata\\local\\packages\\pythonsoftwarefoundation.python.3.10_qbz5n2kfra8p0\\localcache\\local-packages\\python310\\site-packages (1.84)\n",
      "Requirement already satisfied: numpy in c:\\users\\xuech\\appdata\\local\\packages\\pythonsoftwarefoundation.python.3.10_qbz5n2kfra8p0\\localcache\\local-packages\\python310\\site-packages (from biopython) (1.24.4)\n"
     ]
    },
    {
     "name": "stderr",
     "output_type": "stream",
     "text": [
      "\n",
      "[notice] A new release of pip is available: 24.3.1 -> 25.0.1\n",
      "[notice] To update, run: C:\\Users\\xuech\\AppData\\Local\\Microsoft\\WindowsApps\\PythonSoftwareFoundation.Python.3.10_qbz5n2kfra8p0\\python.exe -m pip install --upgrade pip\n"
     ]
    }
   ],
   "source": [
    "!pip install biopython"
   ]
  },
  {
   "cell_type": "code",
   "execution_count": 75,
   "metadata": {},
   "outputs": [],
   "source": [
    "from Bio import Align"
   ]
  },
  {
   "cell_type": "markdown",
   "metadata": {},
   "source": [
    "##### read files"
   ]
  },
  {
   "cell_type": "code",
   "execution_count": 76,
   "metadata": {},
   "outputs": [
    {
     "name": "stdout",
     "output_type": "stream",
     "text": [
      "ACCGAGAGGT\n",
      "TTCCAGCAGG\n"
     ]
    }
   ],
   "source": [
    "# read file D\n",
    "with open('SetD_84seq_nucleo_genomes.txt', 'r') as file:\n",
    "    lines = file.readlines()\n",
    "\n",
    "# Save each sequence in a list and discard headers\n",
    "D = []\n",
    "current_seq = []\n",
    "for line in lines:\n",
    "    if line.startswith('>'):\n",
    "        if current_seq:\n",
    "            D.append(''.join(current_seq))\n",
    "            current_seq = []\n",
    "    else:\n",
    "        current_seq.append(line.strip())\n",
    "if current_seq:\n",
    "    D.append(''.join(current_seq))\n",
    "\n",
    "print(D[0][:10])  # Print the first 10 characters of the first sequence to verify\n",
    "print(D[1][:10])  # Print the first 10 characters of the second sequence to verify"
   ]
  },
  {
   "cell_type": "markdown",
   "metadata": {},
   "source": [
    "##### save found M1 and S1"
   ]
  },
  {
   "cell_type": "code",
   "execution_count": 100,
   "metadata": {},
   "outputs": [],
   "source": [
    "S1 = \"ATGAACTTTCCCCGCGCTTCCCGCCTGATGCAGGCCGCCGTTCTCGGCGGGCTGATGGCCGTGTCGGCCGCCGCCACCGCCCAGACCAACCCCTACGCCCGCGGCCCGAACCCGACAGCCGCCTCACTCGAAGCCAGCGCCGGCCCGTTCACCGTGCGCTCGTTCACCGTGAGCCGCCCGAGCGGCTACGGCGCCGGCACCGTGTACTACCCCACCAACGCCGGCGGCACCGTGGGCGCCATCGCCATCGTGCCGGGCTACACCGCGCGCCAGTCGAGCATCAAATGGTGGGGCCCGCGCCTGGCCTCGCACGGCTTCGTGGTCATCACCATCGACACCAACTCCACGCTCGACCAGCCGTCCAGCCGCTCGTCGCAGCAGATGGCCGCGCTGCGCCAGGTGGCCTCGCTCAACGGCACCAGCAGCAGCCCGATCTACGGCAAGGTCGACACCGCCCGCATGGGCGTGATGGGCTGGTCGATGGGCGGTGGCGGCTCGCTGATCTCGGCGGCCAACAACCCGTCGCTGAAAGCCGCGGCGCCGCAGGCCCCGTGGGACAGCTCGACCAACTTCTCGTCGGTCACCGTGCCCACGCTGATCTTCGCCTGCGAGAACGACAGCATCGCCCCGGTCAACTCGTCCGCCCTGCCGATCTACGACAGCATGTCGCGCAATGCGAAGCAGTTCCTCGAGATCAACGGTGGCTCGCACTCCTGCGCCAACAGCGGCAACAGCAACCAGGCGCTGATCGGCAAGAAGGGCGTGGCCTGGATGAAGCGCTTCATGGACAACGACACGCGCTACTCCACCTTCGCCTGCGAGAACCCGAACAGCACCCGCGTGTCGGACTTCCGCACCGCGAACTGCAGC\""
   ]
  },
  {
   "cell_type": "code",
   "execution_count": null,
   "metadata": {},
   "outputs": [],
   "source": [
    "M1 = \"GACAGCATCGCCCCGGTCAACTCGTCCGCCCTGCCGATCTACGACAGCATGTCGCGCAATGCGAAGCAGTTCCTCGAGATCAACGGTGGCTCGCAC\""
   ]
  },
  {
   "cell_type": "markdown",
   "metadata": {},
   "source": [
    "##### define homologous function for comparing two strings"
   ]
  },
  {
   "cell_type": "code",
   "execution_count": 116,
   "metadata": {},
   "outputs": [],
   "source": [
    "aligner = Align.PairwiseAligner()\n",
    "\n",
    "def is_homologous(seq1, seq2, sim=80):\n",
    "    #global alignment\n",
    "    aligner.mode = 'local'\n",
    "    alignments = [aln for aln in aligner.align(seq1, seq2) if aln.shape[1] > 2] #eliminate alginments with less than 3 matches \n",
    "    best_alignment = alignments[0] if alignments else None\n",
    "    identity = best_alignment.score / min(len(seq1), len(seq2)) * 100 if best_alignment else 0 #alignment score is the number of matches divided by min length of two strings\n",
    "    return identity>= sim, best_alignment[0] if alignments else None\n"
   ]
  },
  {
   "cell_type": "code",
   "execution_count": null,
   "metadata": {},
   "outputs": [
    {
     "name": "stdout",
     "output_type": "stream",
     "text": [
      "(False, 'AT-T-T-G')\n"
     ]
    }
   ],
   "source": [
    "# test case should return false\n",
    "seq1 = \"ATTTGGGAAA\"\n",
    "seq2 = \"TGATGTATAG\"\n",
    "similarity_threshold = 80\n",
    "\n",
    "print(is_homologous(seq1, seq2, similarity_threshold))"
   ]
  },
  {
   "cell_type": "code",
   "execution_count": 114,
   "metadata": {},
   "outputs": [],
   "source": [
    "def is_homologous_to_pair(T, S, M, sim=80):\n",
    "    # Check if T is homologous to S\n",
    "    #return if a match is found and the best local alignment found\n",
    "    is_homologous_to_S, alignment_S = is_homologous(T, S, sim)\n",
    "    if is_homologous_to_S:\n",
    "        aligned_seq_S = str(alignment_S)\n",
    "        is_homologous_to_M, alignment_M = is_homologous(aligned_seq_S, M, sim)\n",
    "        if is_homologous_to_M:\n",
    "            return True, (alignment_S, alignment_M) \n",
    "\n",
    "    return False, (None, None)"
   ]
  },
  {
   "cell_type": "code",
   "execution_count": 117,
   "metadata": {},
   "outputs": [
    {
     "name": "stdout",
     "output_type": "stream",
     "text": [
      "(True, ('TTTGGG', 'GGG'))\n"
     ]
    }
   ],
   "source": [
    "#test case should return\n",
    "seq1 = \"ATTTGGGAAA\"\n",
    "seq2 = \"TGGG\"\n",
    "M = \"GG\"\n",
    "similarity_threshold = 80\n",
    "\n",
    "print(is_homologous_to_pair(seq1, seq2, M, similarity_threshold))"
   ]
  },
  {
   "cell_type": "code",
   "execution_count": null,
   "metadata": {},
   "outputs": [],
   "source": [
    "# def find_K_parellel(D, S, M, sim=50):\n",
    "#     K = []\n",
    "#     len_S = len(S)\n",
    "#     import concurrent.futures\n",
    "\n",
    "#     def process_sequence(seq):\n",
    "#         alignments_pair = [] #return the alignment pair of D \"both substing of D\"\n",
    "#         is_homologous, alignments = is_homologous_to_pair(seq, S, M, sim)\n",
    "#         if is_homologous:\n",
    "#             alignments_pair.append(alignments)\n",
    "#         return alignments_pair\n",
    "\n",
    "#     with concurrent.futures.ThreadPoolExecutor() as executor:\n",
    "#         results = list(executor.map(process_sequence, D))\n",
    "\n",
    "#     # Flatten the list of lists\n",
    "#     K = [item for sublist in results for item in sublist]\n",
    "#     print(K)\n",
    "#     return K"
   ]
  },
  {
   "cell_type": "code",
   "execution_count": null,
   "metadata": {},
   "outputs": [],
   "source": [
    "def find_K(D, S, M, sim=80):\n",
    "    K = []\n",
    "    for seq in D:\n",
    "        is_homologous, alignments = is_homologous_to_pair(seq, S, M, sim)\n",
    "        if is_homologous:\n",
    "            K.append(alignments)\n",
    "    return K"
   ]
  },
  {
   "cell_type": "code",
   "execution_count": null,
   "metadata": {},
   "outputs": [],
   "source": [
    "# # read file D\n",
    "# with open('D1.txt', 'r') as file:\n",
    "#     lines = file.readlines()\n",
    "# D1 = ''.join([line.strip() for line in lines[1:]])\n",
    "# #print(D[:100])"
   ]
  },
  {
   "cell_type": "code",
   "execution_count": 110,
   "metadata": {},
   "outputs": [
    {
     "ename": "KeyboardInterrupt",
     "evalue": "",
     "output_type": "error",
     "traceback": [
      "\u001b[1;31m---------------------------------------------------------------------------\u001b[0m",
      "\u001b[1;31mKeyboardInterrupt\u001b[0m                         Traceback (most recent call last)",
      "Cell \u001b[1;32mIn[110], line 1\u001b[0m\n\u001b[1;32m----> 1\u001b[0m K_set \u001b[38;5;241m=\u001b[39m \u001b[43mfind_K\u001b[49m\u001b[43m(\u001b[49m\u001b[43mD1\u001b[49m\u001b[43m,\u001b[49m\u001b[43m \u001b[49m\u001b[43mS1\u001b[49m\u001b[43m,\u001b[49m\u001b[43m \u001b[49m\u001b[43mM1\u001b[49m\u001b[43m,\u001b[49m\u001b[43m \u001b[49m\u001b[38;5;241;43m80\u001b[39;49m\u001b[43m)\u001b[49m\n\u001b[0;32m      2\u001b[0m \u001b[38;5;28mprint\u001b[39m(K_set)\n",
      "Cell \u001b[1;32mIn[103], line 5\u001b[0m, in \u001b[0;36mfind_K\u001b[1;34m(D, S, M, sim)\u001b[0m\n\u001b[0;32m      3\u001b[0m D \u001b[38;5;241m=\u001b[39m [D,[]]\n\u001b[0;32m      4\u001b[0m \u001b[38;5;28;01mfor\u001b[39;00m seq \u001b[38;5;129;01min\u001b[39;00m D:\n\u001b[1;32m----> 5\u001b[0m     is_homologous, alignments \u001b[38;5;241m=\u001b[39m \u001b[43mis_homologous_to_pair\u001b[49m\u001b[43m(\u001b[49m\u001b[43mseq\u001b[49m\u001b[43m,\u001b[49m\u001b[43m \u001b[49m\u001b[43mS\u001b[49m\u001b[43m,\u001b[49m\u001b[43m \u001b[49m\u001b[43mM\u001b[49m\u001b[43m,\u001b[49m\u001b[43m \u001b[49m\u001b[43msim\u001b[49m\u001b[43m)\u001b[49m\n\u001b[0;32m      6\u001b[0m     \u001b[38;5;28;01mif\u001b[39;00m is_homologous:\n\u001b[0;32m      7\u001b[0m         K\u001b[38;5;241m.\u001b[39mappend(alignments)\n",
      "Cell \u001b[1;32mIn[81], line 3\u001b[0m, in \u001b[0;36mis_homologous_to_pair\u001b[1;34m(T, S, M, sim)\u001b[0m\n\u001b[0;32m      1\u001b[0m \u001b[38;5;28;01mdef\u001b[39;00m\u001b[38;5;250m \u001b[39m\u001b[38;5;21mis_homologous_to_pair\u001b[39m(T, S, M, sim\u001b[38;5;241m=\u001b[39m\u001b[38;5;241m80\u001b[39m):\n\u001b[0;32m      2\u001b[0m     \u001b[38;5;66;03m# Check if T is homologous to S\u001b[39;00m\n\u001b[1;32m----> 3\u001b[0m     is_homologous_to_S, alignment_S \u001b[38;5;241m=\u001b[39m \u001b[43mis_homologous\u001b[49m\u001b[43m(\u001b[49m\u001b[43mT\u001b[49m\u001b[43m,\u001b[49m\u001b[43m \u001b[49m\u001b[43mS\u001b[49m\u001b[43m,\u001b[49m\u001b[43m \u001b[49m\u001b[43msim\u001b[49m\u001b[43m)\u001b[49m\n\u001b[0;32m      4\u001b[0m     \u001b[38;5;28;01mif\u001b[39;00m is_homologous_to_S:\n\u001b[0;32m      5\u001b[0m         aligned_seq_S \u001b[38;5;241m=\u001b[39m \u001b[38;5;28mstr\u001b[39m(alignment_S)\n",
      "Cell \u001b[1;32mIn[108], line 7\u001b[0m, in \u001b[0;36mis_homologous\u001b[1;34m(seq1, seq2, sim)\u001b[0m\n\u001b[0;32m      4\u001b[0m \u001b[38;5;28;01mdef\u001b[39;00m\u001b[38;5;250m \u001b[39m\u001b[38;5;21mis_homologous\u001b[39m(seq1, seq2, sim\u001b[38;5;241m=\u001b[39m\u001b[38;5;241m80\u001b[39m):\n\u001b[0;32m      5\u001b[0m     \u001b[38;5;66;03m#global alignment\u001b[39;00m\n\u001b[0;32m      6\u001b[0m     aligner\u001b[38;5;241m.\u001b[39mmode \u001b[38;5;241m=\u001b[39m \u001b[38;5;124m'\u001b[39m\u001b[38;5;124mlocal\u001b[39m\u001b[38;5;124m'\u001b[39m\n\u001b[1;32m----> 7\u001b[0m     alignments \u001b[38;5;241m=\u001b[39m [aln \u001b[38;5;28;01mfor\u001b[39;00m aln \u001b[38;5;129;01min\u001b[39;00m aligner\u001b[38;5;241m.\u001b[39malign(seq1, seq2) \u001b[38;5;28;01mif\u001b[39;00m aln\u001b[38;5;241m.\u001b[39mshape[\u001b[38;5;241m1\u001b[39m] \u001b[38;5;241m>\u001b[39m \u001b[38;5;241m3\u001b[39m]\n\u001b[0;32m      8\u001b[0m     best_alignment \u001b[38;5;241m=\u001b[39m alignments[\u001b[38;5;241m0\u001b[39m] \u001b[38;5;28;01mif\u001b[39;00m alignments \u001b[38;5;28;01melse\u001b[39;00m \u001b[38;5;28;01mNone\u001b[39;00m\n\u001b[0;32m      9\u001b[0m     identity \u001b[38;5;241m=\u001b[39m best_alignment\u001b[38;5;241m.\u001b[39mscore \u001b[38;5;241m/\u001b[39m \u001b[38;5;28mmin\u001b[39m(\u001b[38;5;28mlen\u001b[39m(seq1), \u001b[38;5;28mlen\u001b[39m(seq2)) \u001b[38;5;241m*\u001b[39m \u001b[38;5;241m100\u001b[39m \u001b[38;5;28;01mif\u001b[39;00m best_alignment \u001b[38;5;28;01melse\u001b[39;00m \u001b[38;5;241m0\u001b[39m\n",
      "Cell \u001b[1;32mIn[108], line 7\u001b[0m, in \u001b[0;36m<listcomp>\u001b[1;34m(.0)\u001b[0m\n\u001b[0;32m      4\u001b[0m \u001b[38;5;28;01mdef\u001b[39;00m\u001b[38;5;250m \u001b[39m\u001b[38;5;21mis_homologous\u001b[39m(seq1, seq2, sim\u001b[38;5;241m=\u001b[39m\u001b[38;5;241m80\u001b[39m):\n\u001b[0;32m      5\u001b[0m     \u001b[38;5;66;03m#global alignment\u001b[39;00m\n\u001b[0;32m      6\u001b[0m     aligner\u001b[38;5;241m.\u001b[39mmode \u001b[38;5;241m=\u001b[39m \u001b[38;5;124m'\u001b[39m\u001b[38;5;124mlocal\u001b[39m\u001b[38;5;124m'\u001b[39m\n\u001b[1;32m----> 7\u001b[0m     alignments \u001b[38;5;241m=\u001b[39m [aln \u001b[38;5;28;01mfor\u001b[39;00m aln \u001b[38;5;129;01min\u001b[39;00m aligner\u001b[38;5;241m.\u001b[39malign(seq1, seq2) \u001b[38;5;28;01mif\u001b[39;00m \u001b[43maln\u001b[49m\u001b[38;5;241;43m.\u001b[39;49m\u001b[43mshape\u001b[49m[\u001b[38;5;241m1\u001b[39m] \u001b[38;5;241m>\u001b[39m \u001b[38;5;241m3\u001b[39m]\n\u001b[0;32m      8\u001b[0m     best_alignment \u001b[38;5;241m=\u001b[39m alignments[\u001b[38;5;241m0\u001b[39m] \u001b[38;5;28;01mif\u001b[39;00m alignments \u001b[38;5;28;01melse\u001b[39;00m \u001b[38;5;28;01mNone\u001b[39;00m\n\u001b[0;32m      9\u001b[0m     identity \u001b[38;5;241m=\u001b[39m best_alignment\u001b[38;5;241m.\u001b[39mscore \u001b[38;5;241m/\u001b[39m \u001b[38;5;28mmin\u001b[39m(\u001b[38;5;28mlen\u001b[39m(seq1), \u001b[38;5;28mlen\u001b[39m(seq2)) \u001b[38;5;241m*\u001b[39m \u001b[38;5;241m100\u001b[39m \u001b[38;5;28;01mif\u001b[39;00m best_alignment \u001b[38;5;28;01melse\u001b[39;00m \u001b[38;5;241m0\u001b[39m\n",
      "File \u001b[1;32m~\\AppData\\Local\\Packages\\PythonSoftwareFoundation.Python.3.10_qbz5n2kfra8p0\\LocalCache\\local-packages\\Python310\\site-packages\\Bio\\Align\\__init__.py:2759\u001b[0m, in \u001b[0;36mAlignment.shape\u001b[1;34m(self)\u001b[0m\n\u001b[0;32m   2718\u001b[0m \u001b[38;5;250m\u001b[39m\u001b[38;5;124;03m\"\"\"Return the shape of the alignment as a tuple of two integer values.\u001b[39;00m\n\u001b[0;32m   2719\u001b[0m \n\u001b[0;32m   2720\u001b[0m \u001b[38;5;124;03mThe first integer value is the number of sequences in the alignment as\u001b[39;00m\n\u001b[1;32m   (...)\u001b[0m\n\u001b[0;32m   2756\u001b[0m \u001b[38;5;124;03m(2, 7)\u001b[39;00m\n\u001b[0;32m   2757\u001b[0m \u001b[38;5;124;03m\"\"\"\u001b[39;00m\n\u001b[0;32m   2758\u001b[0m n \u001b[38;5;241m=\u001b[39m \u001b[38;5;28mlen\u001b[39m(\u001b[38;5;28mself\u001b[39m\u001b[38;5;241m.\u001b[39mcoordinates)\n\u001b[1;32m-> 2759\u001b[0m m \u001b[38;5;241m=\u001b[39m \u001b[38;5;28;43mself\u001b[39;49m\u001b[38;5;241;43m.\u001b[39;49m\u001b[43mlength\u001b[49m\n\u001b[0;32m   2760\u001b[0m \u001b[38;5;28;01mreturn\u001b[39;00m (n, m)\n",
      "File \u001b[1;32m~\\AppData\\Local\\Packages\\PythonSoftwareFoundation.Python.3.10_qbz5n2kfra8p0\\LocalCache\\local-packages\\Python310\\site-packages\\Bio\\Align\\__init__.py:2700\u001b[0m, in \u001b[0;36mAlignment.length\u001b[1;34m(self)\u001b[0m\n\u001b[0;32m   2698\u001b[0m \u001b[38;5;28;01mif\u001b[39;00m n \u001b[38;5;241m==\u001b[39m \u001b[38;5;241m0\u001b[39m:  \u001b[38;5;66;03m# no sequences\u001b[39;00m\n\u001b[0;32m   2699\u001b[0m     \u001b[38;5;28;01mreturn\u001b[39;00m \u001b[38;5;241m0\u001b[39m\n\u001b[1;32m-> 2700\u001b[0m steps \u001b[38;5;241m=\u001b[39m \u001b[43mnp\u001b[49m\u001b[38;5;241;43m.\u001b[39;49m\u001b[43mdiff\u001b[49m\u001b[43m(\u001b[49m\u001b[38;5;28;43mself\u001b[39;49m\u001b[38;5;241;43m.\u001b[39;49m\u001b[43mcoordinates\u001b[49m\u001b[43m,\u001b[49m\u001b[43m \u001b[49m\u001b[38;5;241;43m1\u001b[39;49m\u001b[43m)\u001b[49m\n\u001b[0;32m   2701\u001b[0m aligned \u001b[38;5;241m=\u001b[39m \u001b[38;5;28msum\u001b[39m(steps \u001b[38;5;241m!=\u001b[39m \u001b[38;5;241m0\u001b[39m, \u001b[38;5;241m0\u001b[39m) \u001b[38;5;241m>\u001b[39m \u001b[38;5;241m1\u001b[39m\n\u001b[0;32m   2702\u001b[0m \u001b[38;5;66;03m# True for steps in which at least two sequences align, False if a gap\u001b[39;00m\n",
      "File \u001b[1;32m<__array_function__ internals>:200\u001b[0m, in \u001b[0;36mdiff\u001b[1;34m(*args, **kwargs)\u001b[0m\n",
      "File \u001b[1;32m~\\AppData\\Local\\Packages\\PythonSoftwareFoundation.Python.3.10_qbz5n2kfra8p0\\LocalCache\\local-packages\\Python310\\site-packages\\numpy\\lib\\function_base.py:1448\u001b[0m, in \u001b[0;36mdiff\u001b[1;34m(a, n, axis, prepend, append)\u001b[0m\n\u001b[0;32m   1446\u001b[0m op \u001b[38;5;241m=\u001b[39m not_equal \u001b[38;5;28;01mif\u001b[39;00m a\u001b[38;5;241m.\u001b[39mdtype \u001b[38;5;241m==\u001b[39m np\u001b[38;5;241m.\u001b[39mbool_ \u001b[38;5;28;01melse\u001b[39;00m subtract\n\u001b[0;32m   1447\u001b[0m \u001b[38;5;28;01mfor\u001b[39;00m _ \u001b[38;5;129;01min\u001b[39;00m \u001b[38;5;28mrange\u001b[39m(n):\n\u001b[1;32m-> 1448\u001b[0m     a \u001b[38;5;241m=\u001b[39m \u001b[43mop\u001b[49m\u001b[43m(\u001b[49m\u001b[43ma\u001b[49m\u001b[43m[\u001b[49m\u001b[43mslice1\u001b[49m\u001b[43m]\u001b[49m\u001b[43m,\u001b[49m\u001b[43m \u001b[49m\u001b[43ma\u001b[49m\u001b[43m[\u001b[49m\u001b[43mslice2\u001b[49m\u001b[43m]\u001b[49m\u001b[43m)\u001b[49m\n\u001b[0;32m   1450\u001b[0m \u001b[38;5;28;01mreturn\u001b[39;00m a\n",
      "\u001b[1;31mKeyboardInterrupt\u001b[0m: "
     ]
    }
   ],
   "source": [
    "K_set = find_K(D[:2], S1, M1, 80) #testing first two bacteria sequence \n",
    "print(K_set)"
   ]
  }
 ],
 "metadata": {
  "kernelspec": {
   "display_name": "Python 3",
   "language": "python",
   "name": "python3"
  },
  "language_info": {
   "codemirror_mode": {
    "name": "ipython",
    "version": 3
   },
   "file_extension": ".py",
   "mimetype": "text/x-python",
   "name": "python",
   "nbconvert_exporter": "python",
   "pygments_lexer": "ipython3",
   "version": "3.10.11"
  }
 },
 "nbformat": 4,
 "nbformat_minor": 2
}
