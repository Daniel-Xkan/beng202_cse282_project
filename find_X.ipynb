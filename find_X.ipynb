{
  "cells": [
    {
      "cell_type": "markdown",
      "metadata": {
        "id": "PfFf618uvyVH"
      },
      "source": [
        "# To get the x and y value\n"
      ]
    },
    {
      "cell_type": "code",
      "execution_count": 25,
      "metadata": {
        "id": "9PD2F-xBv2nf"
      },
      "outputs": [],
      "source": [
        "def create_scoring_matrix():\n",
        "  amino_acids = \"CSTPAGNDEQHRKMILVFYW\"\n",
        "  scores = [\n",
        "        [9, -1, -1, -3, 0, -3, -3, -3, -4, -3, -3, -3, -3, -1, -1, -1, -1, -2, -2, -2],  # C done\n",
        "        [-1, 4, 1, -1, 1, 0, -1, 1, 0, 0, 0, -1, -1, 0, -2, -2, -2, -2, -2, -3],         # S done\n",
        "        [-1, 1, 5, -1, 0, -2, 0, -1, -1, -1, -2, -1, -1, -1, -1, -1, 0, -2, -2, -2],     # T done\n",
        "        [-3, -1, -1, 7, -1, -2, -2, -1, -1, -1, -2, -2, -1, -2, -3, -3, -2, -4, -3, -4], # P done\n",
        "        [0, 1, 0, -1, 4, 0, -2, -2, -1, -1, -2, -1, -1, -1, -1, -1, 0, -2, -2, -3],      # A done\n",
        "        [-3, 0, -2, -2, 0, 6, 0, -1, -2, -2, -2, -2, -2, -3, -4, -4, -3, -3, -3, -2],    # G done\n",
        "        [-3, -1, 0, -2, -2, 0, 6, 1, 0, 0, 1, 0, 0, -2, -3, -3, -3, -3, -2, -4],         # N done\n",
        "        [-3, 1, -1, -1, -2, -1, 1, 6, 2, 0, -1, -2, -1, -3, -3, -4, -3, -3, -3, -4],     # D done\n",
        "        [-4, 0, -1, -1, -1, -2, 0, 2, 5, 2, 0, 0, 1, -2, -3, -3, -2, -3, -2, -3],        # E done\n",
        "        [-3, 0, -1, -1, -1, -2, 0, 0, 2, 5, 0, 1, 1, 0, -3, -2, -2, -3, -1, -2],         # Q done\n",
        "        [-3, 0, -2, -2, -2, -2, 1, -1, 0, 0, 8, 0, -1, -2, -3, -3, -3, -1, 2, -2],       # H done\n",
        "        [-3, -1, -1, -2, -1, -2, 0, -2, 0, 1, 0, 5, 2, -1, -3, -2, -3, -3, -2, -3],      # R done\n",
        "        [-3, -1, -1, -1, -1, -2, 0, -1, 1, 1, -1, 2, 5, -1, -3, -2, -2, -3, -2, -3],     # K done\n",
        "        [-1, 0, -1, -2, -1, -3, -2, -3, -2, 0, -2, -1, -1, 5, 1, 2, 1, 0, -1, -1],       # M done\n",
        "        [-1, -2, -1, -3, -1, -4, -3, -3, -3, -3, -3, -3, -3, 1, 4, 2, 3, 0, -1, -3],     # I done\n",
        "        [-1, -2, -1, -3, -1, -4, -3, -4, -3, -2, -3, -2, -2, 2, 2, 4, 1, 0, -1, -2],     # L done\n",
        "        [-1, -2, 0, -2, 0, -3, -3, -3, -2, -2, -3, -3, -2, 1, 3, 1, 4, -1, -1, -3],      # V done\n",
        "        [-2, -2, -2, -4, -2, -3, -3, -3, -3, -3, -1, -3, -3, 0, 0, 0, -1, 6, 3, 1],      # F done\n",
        "        [-2, -2, -2, -3, -2, -3, -2, -3, -2, -1, 2, -2, -2, -1, -1, -1, -1, 3, 7, 2],    # Y done\n",
        "        [-2, -3, -2, -4, -3, -2, -4, -4, -3, -2, -2, -3, -3, -1, -3, -2, -3, 1, 2, 11]   # W done\n",
        "    ]\n",
        "\n",
        "  matrix = {}\n",
        "  for i, aa1 in enumerate(amino_acids):\n",
        "      matrix[aa1] = {}\n",
        "      for j, aa2 in enumerate(amino_acids):\n",
        "          matrix[aa1][aa2] = scores[i][j]\n",
        "  return matrix"
      ]
    },
    {
      "cell_type": "code",
      "execution_count": 26,
      "metadata": {
        "id": "Ru6gvWSwwQH3"
      },
      "outputs": [],
      "source": [
        "def calculate_active_pattern_score(active_pattern):\n",
        "  matrix = create_scoring_matrix()\n",
        "  print(matrix)\n",
        "  score = 0\n",
        "  for i in active_pattern:\n",
        "    if i in matrix:\n",
        "      print(f\"The point got is {matrix[i][i]}\")\n",
        "      score += matrix[i][i]\n",
        "    else:\n",
        "      print(f\"{i} is not found in the matrix\")\n",
        "  return score"
      ]
    },
    {
      "cell_type": "code",
      "execution_count": 27,
      "metadata": {},
      "outputs": [],
      "source": [
        "def calculate_conservation_score(substring, pattern):\n",
        "  if len(substring) != len(pattern):\n",
        "    raise ValueError(\"Strings must have equal length\")\n",
        "  \n",
        "  matrix = create_scoring_matrix()\n",
        "  total_score = 0\n",
        "  \n",
        "  for s, p in zip(substring, pattern):\n",
        "    if s in matrix and p in matrix:\n",
        "      total_score += matrix[s][p]\n",
        "    else:\n",
        "      if s not in matrix:\n",
        "        print(f\"{s} from substring is not found in the matrix\")\n",
        "      if p not in matrix:\n",
        "        print(f\"{p} from pattern is not found in the matrix\")\n",
        "  \n",
        "  return total_score"
      ]
    },
    {
      "cell_type": "code",
      "execution_count": null,
      "metadata": {},
      "outputs": [],
      "source": [
        "def is_conserved(substring, pattern, pattern_self_score, threshold=0.80):\n",
        "  conservation_score = calculate_conservation_score(substring, pattern)\n",
        "  ratio = conservation_score / pattern_self_score\n",
        "  return ratio >= threshold"
      ]
    },
    {
      "cell_type": "code",
      "execution_count": 29,
      "metadata": {
        "id": "cQnm-ywGyqSs"
      },
      "outputs": [],
      "source": [
        "M1 = \"DSIAPVNSSALPIYDSMSRNAKQFLEINGGSH\"\n",
        "M2 = \"DTGIEASHPEFEGRAQMVKTYYYSSRDGNGH\""
      ]
    },
    {
      "cell_type": "code",
      "execution_count": 30,
      "metadata": {
        "colab": {
          "base_uri": "https://localhost:8080/"
        },
        "id": "eJcaP0EKytfe",
        "outputId": "4a21643f-43ca-4daf-ef77-7d89d9f144f8"
      },
      "outputs": [
        {
          "name": "stdout",
          "output_type": "stream",
          "text": [
            "{'C': {'C': 9, 'S': -1, 'T': -1, 'P': -3, 'A': 0, 'G': -3, 'N': -3, 'D': -3, 'E': -4, 'Q': -3, 'H': -3, 'R': -3, 'K': -3, 'M': -1, 'I': -1, 'L': -1, 'V': -1, 'F': -2, 'Y': -2, 'W': -2}, 'S': {'C': -1, 'S': 4, 'T': 1, 'P': -1, 'A': 1, 'G': 0, 'N': -1, 'D': 1, 'E': 0, 'Q': 0, 'H': 0, 'R': -1, 'K': -1, 'M': 0, 'I': -2, 'L': -2, 'V': -2, 'F': -2, 'Y': -2, 'W': -3}, 'T': {'C': -1, 'S': 1, 'T': 5, 'P': -1, 'A': 0, 'G': -2, 'N': 0, 'D': -1, 'E': -1, 'Q': -1, 'H': -2, 'R': -1, 'K': -1, 'M': -1, 'I': -1, 'L': -1, 'V': 0, 'F': -2, 'Y': -2, 'W': -2}, 'P': {'C': -3, 'S': -1, 'T': -1, 'P': 7, 'A': -1, 'G': -2, 'N': -2, 'D': -1, 'E': -1, 'Q': -1, 'H': -2, 'R': -2, 'K': -1, 'M': -2, 'I': -3, 'L': -3, 'V': -2, 'F': -4, 'Y': -3, 'W': -4}, 'A': {'C': 0, 'S': 1, 'T': 0, 'P': -1, 'A': 4, 'G': 0, 'N': -2, 'D': -2, 'E': -1, 'Q': -1, 'H': -2, 'R': -1, 'K': -1, 'M': -1, 'I': -1, 'L': -1, 'V': 0, 'F': -2, 'Y': -2, 'W': -3}, 'G': {'C': -3, 'S': 0, 'T': -2, 'P': -2, 'A': 0, 'G': 6, 'N': 0, 'D': -1, 'E': -2, 'Q': -2, 'H': -2, 'R': -2, 'K': -2, 'M': -3, 'I': -4, 'L': -4, 'V': -3, 'F': -3, 'Y': -3, 'W': -2}, 'N': {'C': -3, 'S': -1, 'T': 0, 'P': -2, 'A': -2, 'G': 0, 'N': 6, 'D': 1, 'E': 0, 'Q': 0, 'H': 1, 'R': 0, 'K': 0, 'M': -2, 'I': -3, 'L': -3, 'V': -3, 'F': -3, 'Y': -2, 'W': -4}, 'D': {'C': -3, 'S': 1, 'T': -1, 'P': -1, 'A': -2, 'G': -1, 'N': 1, 'D': 6, 'E': 2, 'Q': 0, 'H': -1, 'R': -2, 'K': -1, 'M': -3, 'I': -3, 'L': -4, 'V': -3, 'F': -3, 'Y': -3, 'W': -4}, 'E': {'C': -4, 'S': 0, 'T': -1, 'P': -1, 'A': -1, 'G': -2, 'N': 0, 'D': 2, 'E': 5, 'Q': 2, 'H': 0, 'R': 0, 'K': 1, 'M': -2, 'I': -3, 'L': -3, 'V': -2, 'F': -3, 'Y': -2, 'W': -3}, 'Q': {'C': -3, 'S': 0, 'T': -1, 'P': -1, 'A': -1, 'G': -2, 'N': 0, 'D': 0, 'E': 2, 'Q': 5, 'H': 0, 'R': 1, 'K': 1, 'M': 0, 'I': -3, 'L': -2, 'V': -2, 'F': -3, 'Y': -1, 'W': -2}, 'H': {'C': -3, 'S': 0, 'T': -2, 'P': -2, 'A': -2, 'G': -2, 'N': 1, 'D': -1, 'E': 0, 'Q': 0, 'H': 8, 'R': 0, 'K': -1, 'M': -2, 'I': -3, 'L': -3, 'V': -3, 'F': -1, 'Y': 2, 'W': -2}, 'R': {'C': -3, 'S': -1, 'T': -1, 'P': -2, 'A': -1, 'G': -2, 'N': 0, 'D': -2, 'E': 0, 'Q': 1, 'H': 0, 'R': 5, 'K': 2, 'M': -1, 'I': -3, 'L': -2, 'V': -3, 'F': -3, 'Y': -2, 'W': -3}, 'K': {'C': -3, 'S': -1, 'T': -1, 'P': -1, 'A': -1, 'G': -2, 'N': 0, 'D': -1, 'E': 1, 'Q': 1, 'H': -1, 'R': 2, 'K': 5, 'M': -1, 'I': -3, 'L': -2, 'V': -2, 'F': -3, 'Y': -2, 'W': -3}, 'M': {'C': -1, 'S': 0, 'T': -1, 'P': -2, 'A': -1, 'G': -3, 'N': -2, 'D': -3, 'E': -2, 'Q': 0, 'H': -2, 'R': -1, 'K': -1, 'M': 5, 'I': 1, 'L': 2, 'V': 1, 'F': 0, 'Y': -1, 'W': -1}, 'I': {'C': -1, 'S': -2, 'T': -1, 'P': -3, 'A': -1, 'G': -4, 'N': -3, 'D': -3, 'E': -3, 'Q': -3, 'H': -3, 'R': -3, 'K': -3, 'M': 1, 'I': 4, 'L': 2, 'V': 3, 'F': 0, 'Y': -1, 'W': -3}, 'L': {'C': -1, 'S': -2, 'T': -1, 'P': -3, 'A': -1, 'G': -4, 'N': -3, 'D': -4, 'E': -3, 'Q': -2, 'H': -3, 'R': -2, 'K': -2, 'M': 2, 'I': 2, 'L': 4, 'V': 1, 'F': 0, 'Y': -1, 'W': -2}, 'V': {'C': -1, 'S': -2, 'T': 0, 'P': -2, 'A': 0, 'G': -3, 'N': -3, 'D': -3, 'E': -2, 'Q': -2, 'H': -3, 'R': -3, 'K': -2, 'M': 1, 'I': 3, 'L': 1, 'V': 4, 'F': -1, 'Y': -1, 'W': -3}, 'F': {'C': -2, 'S': -2, 'T': -2, 'P': -4, 'A': -2, 'G': -3, 'N': -3, 'D': -3, 'E': -3, 'Q': -3, 'H': -1, 'R': -3, 'K': -3, 'M': 0, 'I': 0, 'L': 0, 'V': -1, 'F': 6, 'Y': 3, 'W': 1}, 'Y': {'C': -2, 'S': -2, 'T': -2, 'P': -3, 'A': -2, 'G': -3, 'N': -2, 'D': -3, 'E': -2, 'Q': -1, 'H': 2, 'R': -2, 'K': -2, 'M': -1, 'I': -1, 'L': -1, 'V': -1, 'F': 3, 'Y': 7, 'W': 2}, 'W': {'C': -2, 'S': -3, 'T': -2, 'P': -4, 'A': -3, 'G': -2, 'N': -4, 'D': -4, 'E': -3, 'Q': -2, 'H': -2, 'R': -3, 'K': -3, 'M': -1, 'I': -3, 'L': -2, 'V': -3, 'F': 1, 'Y': 2, 'W': 11}}\n",
            "The point got is 6\n",
            "The point got is 4\n",
            "The point got is 4\n",
            "The point got is 4\n",
            "The point got is 7\n",
            "The point got is 4\n",
            "The point got is 6\n",
            "The point got is 4\n",
            "The point got is 4\n",
            "The point got is 4\n",
            "The point got is 4\n",
            "The point got is 7\n",
            "The point got is 4\n",
            "The point got is 7\n",
            "The point got is 6\n",
            "The point got is 4\n",
            "The point got is 5\n",
            "The point got is 4\n",
            "The point got is 5\n",
            "The point got is 6\n",
            "The point got is 4\n",
            "The point got is 5\n",
            "The point got is 5\n",
            "The point got is 6\n",
            "The point got is 4\n",
            "The point got is 5\n",
            "The point got is 4\n",
            "The point got is 6\n",
            "The point got is 6\n",
            "The point got is 6\n",
            "The point got is 4\n",
            "The point got is 8\n",
            "\n",
            "{'C': {'C': 9, 'S': -1, 'T': -1, 'P': -3, 'A': 0, 'G': -3, 'N': -3, 'D': -3, 'E': -4, 'Q': -3, 'H': -3, 'R': -3, 'K': -3, 'M': -1, 'I': -1, 'L': -1, 'V': -1, 'F': -2, 'Y': -2, 'W': -2}, 'S': {'C': -1, 'S': 4, 'T': 1, 'P': -1, 'A': 1, 'G': 0, 'N': -1, 'D': 1, 'E': 0, 'Q': 0, 'H': 0, 'R': -1, 'K': -1, 'M': 0, 'I': -2, 'L': -2, 'V': -2, 'F': -2, 'Y': -2, 'W': -3}, 'T': {'C': -1, 'S': 1, 'T': 5, 'P': -1, 'A': 0, 'G': -2, 'N': 0, 'D': -1, 'E': -1, 'Q': -1, 'H': -2, 'R': -1, 'K': -1, 'M': -1, 'I': -1, 'L': -1, 'V': 0, 'F': -2, 'Y': -2, 'W': -2}, 'P': {'C': -3, 'S': -1, 'T': -1, 'P': 7, 'A': -1, 'G': -2, 'N': -2, 'D': -1, 'E': -1, 'Q': -1, 'H': -2, 'R': -2, 'K': -1, 'M': -2, 'I': -3, 'L': -3, 'V': -2, 'F': -4, 'Y': -3, 'W': -4}, 'A': {'C': 0, 'S': 1, 'T': 0, 'P': -1, 'A': 4, 'G': 0, 'N': -2, 'D': -2, 'E': -1, 'Q': -1, 'H': -2, 'R': -1, 'K': -1, 'M': -1, 'I': -1, 'L': -1, 'V': 0, 'F': -2, 'Y': -2, 'W': -3}, 'G': {'C': -3, 'S': 0, 'T': -2, 'P': -2, 'A': 0, 'G': 6, 'N': 0, 'D': -1, 'E': -2, 'Q': -2, 'H': -2, 'R': -2, 'K': -2, 'M': -3, 'I': -4, 'L': -4, 'V': -3, 'F': -3, 'Y': -3, 'W': -2}, 'N': {'C': -3, 'S': -1, 'T': 0, 'P': -2, 'A': -2, 'G': 0, 'N': 6, 'D': 1, 'E': 0, 'Q': 0, 'H': 1, 'R': 0, 'K': 0, 'M': -2, 'I': -3, 'L': -3, 'V': -3, 'F': -3, 'Y': -2, 'W': -4}, 'D': {'C': -3, 'S': 1, 'T': -1, 'P': -1, 'A': -2, 'G': -1, 'N': 1, 'D': 6, 'E': 2, 'Q': 0, 'H': -1, 'R': -2, 'K': -1, 'M': -3, 'I': -3, 'L': -4, 'V': -3, 'F': -3, 'Y': -3, 'W': -4}, 'E': {'C': -4, 'S': 0, 'T': -1, 'P': -1, 'A': -1, 'G': -2, 'N': 0, 'D': 2, 'E': 5, 'Q': 2, 'H': 0, 'R': 0, 'K': 1, 'M': -2, 'I': -3, 'L': -3, 'V': -2, 'F': -3, 'Y': -2, 'W': -3}, 'Q': {'C': -3, 'S': 0, 'T': -1, 'P': -1, 'A': -1, 'G': -2, 'N': 0, 'D': 0, 'E': 2, 'Q': 5, 'H': 0, 'R': 1, 'K': 1, 'M': 0, 'I': -3, 'L': -2, 'V': -2, 'F': -3, 'Y': -1, 'W': -2}, 'H': {'C': -3, 'S': 0, 'T': -2, 'P': -2, 'A': -2, 'G': -2, 'N': 1, 'D': -1, 'E': 0, 'Q': 0, 'H': 8, 'R': 0, 'K': -1, 'M': -2, 'I': -3, 'L': -3, 'V': -3, 'F': -1, 'Y': 2, 'W': -2}, 'R': {'C': -3, 'S': -1, 'T': -1, 'P': -2, 'A': -1, 'G': -2, 'N': 0, 'D': -2, 'E': 0, 'Q': 1, 'H': 0, 'R': 5, 'K': 2, 'M': -1, 'I': -3, 'L': -2, 'V': -3, 'F': -3, 'Y': -2, 'W': -3}, 'K': {'C': -3, 'S': -1, 'T': -1, 'P': -1, 'A': -1, 'G': -2, 'N': 0, 'D': -1, 'E': 1, 'Q': 1, 'H': -1, 'R': 2, 'K': 5, 'M': -1, 'I': -3, 'L': -2, 'V': -2, 'F': -3, 'Y': -2, 'W': -3}, 'M': {'C': -1, 'S': 0, 'T': -1, 'P': -2, 'A': -1, 'G': -3, 'N': -2, 'D': -3, 'E': -2, 'Q': 0, 'H': -2, 'R': -1, 'K': -1, 'M': 5, 'I': 1, 'L': 2, 'V': 1, 'F': 0, 'Y': -1, 'W': -1}, 'I': {'C': -1, 'S': -2, 'T': -1, 'P': -3, 'A': -1, 'G': -4, 'N': -3, 'D': -3, 'E': -3, 'Q': -3, 'H': -3, 'R': -3, 'K': -3, 'M': 1, 'I': 4, 'L': 2, 'V': 3, 'F': 0, 'Y': -1, 'W': -3}, 'L': {'C': -1, 'S': -2, 'T': -1, 'P': -3, 'A': -1, 'G': -4, 'N': -3, 'D': -4, 'E': -3, 'Q': -2, 'H': -3, 'R': -2, 'K': -2, 'M': 2, 'I': 2, 'L': 4, 'V': 1, 'F': 0, 'Y': -1, 'W': -2}, 'V': {'C': -1, 'S': -2, 'T': 0, 'P': -2, 'A': 0, 'G': -3, 'N': -3, 'D': -3, 'E': -2, 'Q': -2, 'H': -3, 'R': -3, 'K': -2, 'M': 1, 'I': 3, 'L': 1, 'V': 4, 'F': -1, 'Y': -1, 'W': -3}, 'F': {'C': -2, 'S': -2, 'T': -2, 'P': -4, 'A': -2, 'G': -3, 'N': -3, 'D': -3, 'E': -3, 'Q': -3, 'H': -1, 'R': -3, 'K': -3, 'M': 0, 'I': 0, 'L': 0, 'V': -1, 'F': 6, 'Y': 3, 'W': 1}, 'Y': {'C': -2, 'S': -2, 'T': -2, 'P': -3, 'A': -2, 'G': -3, 'N': -2, 'D': -3, 'E': -2, 'Q': -1, 'H': 2, 'R': -2, 'K': -2, 'M': -1, 'I': -1, 'L': -1, 'V': -1, 'F': 3, 'Y': 7, 'W': 2}, 'W': {'C': -2, 'S': -3, 'T': -2, 'P': -4, 'A': -3, 'G': -2, 'N': -4, 'D': -4, 'E': -3, 'Q': -2, 'H': -2, 'R': -3, 'K': -3, 'M': -1, 'I': -3, 'L': -2, 'V': -3, 'F': 1, 'Y': 2, 'W': 11}}\n",
            "The point got is 6\n",
            "The point got is 5\n",
            "The point got is 6\n",
            "The point got is 4\n",
            "The point got is 5\n",
            "The point got is 4\n",
            "The point got is 4\n",
            "The point got is 8\n",
            "The point got is 7\n",
            "The point got is 5\n",
            "The point got is 6\n",
            "The point got is 5\n",
            "The point got is 6\n",
            "The point got is 5\n",
            "The point got is 4\n",
            "The point got is 5\n",
            "The point got is 5\n",
            "The point got is 4\n",
            "The point got is 5\n",
            "The point got is 5\n",
            "The point got is 7\n",
            "The point got is 7\n",
            "The point got is 7\n",
            "The point got is 4\n",
            "The point got is 4\n",
            "The point got is 5\n",
            "The point got is 6\n",
            "The point got is 6\n",
            "The point got is 6\n",
            "The point got is 6\n",
            "The point got is 8\n"
          ]
        }
      ],
      "source": [
        "x = calculate_active_pattern_score(M1)\n",
        "print()\n",
        "y = calculate_active_pattern_score(M2)"
      ]
    },
    {
      "cell_type": "code",
      "execution_count": 31,
      "metadata": {
        "colab": {
          "base_uri": "https://localhost:8080/"
        },
        "id": "uCedTZvUyu2g",
        "outputId": "8d68bc2b-3776-4b42-cbe1-c281b161e410"
      },
      "outputs": [
        {
          "name": "stdout",
          "output_type": "stream",
          "text": [
            "162\n",
            "170\n"
          ]
        }
      ],
      "source": [
        "print(x)\n",
        "print(y)"
      ]
    },
    {
      "cell_type": "markdown",
      "metadata": {
        "id": "smXzeIxnwQox"
      },
      "source": [
        "# To find the proper string! (function X)"
      ]
    },
    {
      "cell_type": "code",
      "execution_count": 32,
      "metadata": {},
      "outputs": [],
      "source": [
        "from tqdm import tqdm"
      ]
    },
    {
      "cell_type": "code",
      "execution_count": null,
      "metadata": {
        "id": "57_1F8_csaox"
      },
      "outputs": [],
      "source": [
        "def find_separated_substrings(sequence, M1, M2, d, x, y, threshold_x, threshold_y):\n",
        "  # substring1 and substring2 from the same sequence\n",
        "  # substring1 and M1 with x similar\n",
        "  # substring2 and M2 with y similar\n",
        "  # the start positions between the two subsequences should be at least d\n",
        "\n",
        "  len_M1 = len(M1)\n",
        "  len_M2 = len(M2)\n",
        "  results = []\n",
        "\n",
        "  if len(sequence) < len_M1 + len_M2 + d - 1:\n",
        "    return []\n",
        "  var1_candidates = []\n",
        "  for i in tqdm(range(len(sequence) - len_M1 + 1)):\n",
        "    substring1 = sequence[i:i+len_M1]\n",
        "    if is_conserved(substring1, M1, x, threshold_x):\n",
        "      var1_candidates.append((i, substring1))\n",
        "\n",
        "  var2_candidates = []\n",
        "  for i in tqdm(range(len(sequence) - len_M2 + 1)):\n",
        "    substring2 = sequence[i:i+len_M2]\n",
        "    if is_conserved(substring2, M2, y, threshold_y):\n",
        "      var2_candidates.append((i, substring2))\n",
        "\n",
        "  # for var1_start, var1 in var1_candidates:\n",
        "  #   for var2_start, var2 in var2_candidates:\n",
        "  #     if abs(var1_start - var2_start) >= d:\n",
        "  #       results.append((var1, var2))\n",
        "  #       # results.append((var1_start, var1, var2_start, var2))\n",
        "\n",
        "  if len(var1_candidates) * len(var2_candidates) > 1000:\n",
        "    pairs_total = len(var1_candidates) * len(var2_candidates)\n",
        "    with tqdm(total=pairs_total, desc=\"Checking pairs\", ncols=100) as pbar:\n",
        "      for var1_start, var1 in var1_candidates:\n",
        "        for var2_start, var2 in var2_candidates:\n",
        "          if abs(var1_start - var2_start) >= d:\n",
        "            results.append((var1, var2))\n",
        "          pbar.update(1)\n",
        "  else:\n",
        "    for var1_start, var1 in var1_candidates:\n",
        "      for var2_start, var2 in var2_candidates:\n",
        "        if abs(var1_start - var2_start) >= d:\n",
        "          results.append((var1, var2))\n",
        "  return results\n"
      ]
    },
    {
      "cell_type": "code",
      "execution_count": 34,
      "metadata": {
        "id": "pzmK1FdourGe"
      },
      "outputs": [],
      "source": [
        "# M1 = \"DSIAPVNSSALPIYDSMSRNAKQFLEINGGSH\"\n",
        "# M2 = \"DTGIEASHPEFEGRAQMVKTYYYSSRDGNGH\"\n",
        "# # This part to be constucted before (reading a hash table and get the value sum)\n",
        "# # x and y right value in the google doc?\n",
        "# x = 216\n",
        "# y = 175"
      ]
    },
    {
      "cell_type": "code",
      "execution_count": 35,
      "metadata": {
        "colab": {
          "base_uri": "https://localhost:8080/"
        },
        "id": "9uKUoaBc4v30",
        "outputId": "07c8972d-3e7b-4578-ffa5-b22d24a851f2"
      },
      "outputs": [
        {
          "name": "stdout",
          "output_type": "stream",
          "text": [
            "    seq_num                                                seq  \\\n",
            "0         0  MPLVATLGLALAAGSLAPSASAAAGDPATVETPPVVSQRAIDEHAA...   \n",
            "1         2  MSAARPGGPPRPRGRLVVQQHPRSTTASAAPGPARGAGRRGTRRFA...   \n",
            "2         4  MSSPTTTVRPRPAVRLAGLAVAAVLATAGAFAAPPAAQAAANPYER...   \n",
            "3         5  MSAPTTTRTRPLARVTRLAVATVLAAAGVLAAAPAQAADNPYERGP...   \n",
            "4         6  MRSPTTTRPRSAVRTMARLAMAAVLAAGGVLATSSGVQAADNPYER...   \n",
            "5         8  MEPQHKLKRKPRRRLAAFVTALALAAGGVGVTQLSTAAQAAPQDYW...   \n",
            "6        11  MQQHPHTSRRRTGRLAALTAAVAVVVGLTTLNGPGAQAADNPYERG...   \n",
            "7        12  MRLRRLIPSLIPVLALSLAGVTPATAAEAEYRRGPDPTTAGIEAPR...   \n",
            "8        15  MQASPTPRSTSVPTYSARAERAPRRRLRGRLAALSATAALLAGLTT...   \n",
            "9        21  MPSRSLRVCPALVALAAAAFAVAPHAHAAPAAPAARTAQAAQAAQN...   \n",
            "10       23  MRNPVKHLLTAATLVATLVAALVAVPAGPALAANPYERGPAPTTAS...   \n",
            "11       24  MTPTNREYTDVQPLTCAPARPRPAVRALGRFAVAVALVAAGIVAVP...   \n",
            "12       27  MPQHPHTARRGTRRLAGLTAAVAAVVSLTTLSGPGAHAADNPYERG...   \n",
            "13       28  MRRRLTGAALAIALGAAAFTAPAAGAAENPYERGPAPTNSSIEAPT...   \n",
            "14       30  MPVPTLRRTFSLLTAAFAATAAALTVPAAPALAANPYERGPAPTNA...   \n",
            "15       33  MRNPIPRLLGALTLAAALVAAPAPALAANPYERGPAPTVASIEASR...   \n",
            "16       34  MHRTWKRMLVTVAATIALTAPLGATAAHAADNPYERGPNPTLAALQ...   \n",
            "17       35  MRIRSILCALSASALLVAGTPAQAAVPVAANPYERGPAPTTSSIEA...   \n",
            "18       36  MRRGARILCGLSAVAALAIAPTAQAVDNPYERGPDPTENSIEASRG...   \n",
            "19       40  MKTAIRLSTAATAVLLALVGASPPAQAADSPYERGPDPTSAILDAS...   \n",
            "20       41  MQLSSVSTRARRILVTAATALALVAVPGVTAAQAADNPYERGPAPT...   \n",
            "21       44  MAVITPRRERSSLLSRALRFTAAAATALVTAVSLAAPAHAANPYER...   \n",
            "22       47  MRLRALFPAMALLAASAVAAPPAALAAASPYERGPAPTTASVEAAR...   \n",
            "\n",
            "                             aligned_seq1  \\\n",
            "0                              SIAPVNS-SA   \n",
            "1   DSIAPVNSS-ALPIYDS--MS--RNAKQFLEINGGSH   \n",
            "2     DSIAPVNSS-ALPIYDS--MSRNAKQFLEINGGSH   \n",
            "3     DSIAPVNSS-ALPIYDS--MSRNAKQFLEINGGSH   \n",
            "4    DSIAPVNS-SALPIYDSMSRNA---KQFLEINGGSH   \n",
            "5                     DSIAPVNSS-ALPIYDSMS   \n",
            "6                       DSIAPVNSS-ALPIYDS   \n",
            "7      DSIAPVNSS-ALPIYDSM-SRNAKQFLEINGGSH   \n",
            "8       APVNSS-ALPIYDS-MS-RN-AKQFLEINGGSH   \n",
            "9      DSIAPVNSS-ALPIYDS-MSRNAKQFLEINGGSH   \n",
            "10    DSIAPVNSS-ALPIYDS--MSRNAKQFLEINGGSH   \n",
            "11    DSIAPVNSS-ALPIYDS-MSRNA-KQFLEINGGSH   \n",
            "12    DSIAPVNSS-ALPIYDS---MS--RNAKQFLEING   \n",
            "13     DSIAPVNSSALPIYDSMSRNA--KQFLEINGGSH   \n",
            "14      APVNSS-ALPIYDSM-SRNA--KQFLEINGGSH   \n",
            "15        APVNSS-ALPIYDS-MSRNAKQFLEINGGSH   \n",
            "16    DSIAPVNS-SALPIYDS-MSRNA-KQFLEINGGSH   \n",
            "17       APVNSS-ALPIYDSMSRNA--KQFLEINGGSH   \n",
            "18    DSIAPVNSS-ALPIYDS-MSRNA-KQFLEINGGSH   \n",
            "19   DSIAPVNSS-ALPIYDS---MSRNAKQFLEINGGSH   \n",
            "20    DSIAPVNSS-ALPIYDS-MSRNA-KQFLEINGGSH   \n",
            "21                       DSIAPVNSSALPIYDS   \n",
            "22  DSIAPVNSS-ALPIYDSM-SRNA--KQFLE-IN-GGS   \n",
            "\n",
            "                             aligned_seq2  percent_identity  \n",
            "0                              SLAP--SASA         60.000000  \n",
            "1   DSIAPV-SSHAEPFYGSLRSSLDR-A--YLELNGASH         56.756757  \n",
            "2     DSIAPV-SSHSEPFYNSIPAS-SEKAYLELNGASH         54.285714  \n",
            "3     DSIAPV-SSHSVPFYNSIPAS-SEKAYLELNGASH         54.285714  \n",
            "4    DSIAPVYSHS-EPFY-S-SIPASSEKAYLELNGASH         55.555556  \n",
            "5                     DSIASV-SSHAIPFYTSLS         63.157895  \n",
            "6                       DTIAPV-SSHAEPLY-S         64.705882  \n",
            "7      DSTAPV-SSHSEPFYTSMPSTMDKAYLELNGASH         55.882353  \n",
            "8       APV-SSHAEPFYTSLPSGLNRA--YLELNGASH         54.545455  \n",
            "9      DSIAPV-SSHSEPFYASLPSTLDKAYLELNGASH         55.882353  \n",
            "10    DSVAPV-SSHAEPFYTSLPAS-SDKAYLELNNASH         51.428571  \n",
            "11    DSVASV-SSHSIPFYNSIPS-SAEKAYLELNGASH         51.428571  \n",
            "12    DSIAPV-SSHAEPLY-SGLPSSLDR-A--YLELNG         54.285714  \n",
            "13     DSVAPVASHAEPFYTSLS-SAPDKAYLELNNASH         52.941176  \n",
            "14      APV-SSHAEPFYTSMTS--APEKAYLELNNASH         54.545455  \n",
            "15        APV-SSHAEPFYTSLPSTLDKAYLELNNASH         51.612903  \n",
            "16    DTIAPVASHS-IPFYTSIPS-SAEKSYLELNGASH         54.285714  \n",
            "17       APV-SSHSEPFYTSMS-AAQDKAYLELNNASH         53.125000  \n",
            "18    DSVASV-SSHAIPFYNSIPS-SAEKAYMEMNGASH         51.428571  \n",
            "19   DSVAPV-SSHAVPFY-STIPAS-SEKAYLELNGASH         52.777778  \n",
            "20    DSIASV-SSHSIPFYNSIPS-SAEKAYLELNNASH         51.428571  \n",
            "21                       DTIAPVLTHARPFYNS         56.250000  \n",
            "22  DSTAPV-SSHSEPFYTSMTS--APDKAYLELNNAGHS         51.351351  \n"
          ]
        }
      ],
      "source": [
        "# To get the set of sequence\n",
        "import pandas as pd\n",
        "K_result_df = pd.read_csv(\"K_results.csv\")\n",
        "print(K_result_df)"
      ]
    },
    {
      "cell_type": "code",
      "execution_count": 36,
      "metadata": {
        "colab": {
          "base_uri": "https://localhost:8080/"
        },
        "id": "OTiHfgcv5RkI",
        "outputId": "10180104-b90c-4686-a4f5-e464399f5d83"
      },
      "outputs": [
        {
          "data": {
            "text/plain": [
              "['MPLVATLGLALAAGSLAPSASAAAGDPATVETPPVVSQRAIDEHAATEPQLSLDAPAALPPVTIAASPYERGPAPTVASIEAARGPFAVAQTTVSRFAASGFGGGTITYPTSTAEGTFGAVAISPGYTAAQSSISWLGPRLASQGFVVITIDTNSRYDQPSSRGDQLRAALAYLTGSSSVRGRIDASRLAVMGHSMGGGGALEAAKDNPALQAAIPMTPWNTDKTWPEVQTPTLIIGAQNDSVASVTTHAEPFYENLPGSLDKAYLELRGASHFAPNTSNTTIARQSIAWLKRFVDDDERYAQFLCPPPSGTAISEYRSTCPY',\n",
              " 'MSAARPGGPPRPRGRLVVQQHPRSTTASAAPGPARGAGRRGTRRFAGAAAAIAAAVALSTLTGPGARAADNPYERGPAPTTASIEASRGPYSVSETSVSSLAVSGFGGGTIYYPTSTADGTFGAVAVSPGYTGTQSSIAWLGPRLASQGFVVFTIDTLTTLDQPDSRGRQLLAALDYLTTRSSVRGRVDSTRLGVMGHSMGGGGSLEAAKSRPSLQAAIPLTPWNLDKSWPEVTTPTLIVGADGDSIAPVSSHAEPFYGSLRSSLDRAYLELNGASHFTPNSSNTTIAKYSVSWLKRFIDNDTRYEQFLCPLPSPSLTIEEYRGNCPHTS',\n",
              " 'MSSPTTTVRPRPAVRLAGLAVAAVLATAGAFAAPPAAQAAANPYERGPAPTVALLEASRGPFATASQSVSSLSVTGFGGGVIYYPTSTAEGTFGAVAISPGYTAAWSSIDWLGPRIASHGFVVIGIETNTRLDQPDSRGRQLLAALDYLTQRSSVRGRIDASRLAVSGHSMGGGGSLEAAVARPSLQAAVPLAPWNLDKTWSDVRVPTLIIGGESDSIAPVSSHSEPFYNSIPASSEKAYLELNGASHFFPQTVNTPTARQAVAWLKRFVDDDTRYEQFLCPGPSGSAVQEYRNTCPSA',\n",
              " 'MSAPTTTRTRPLARVTRLAVATVLAAAGVLAAAPAQAADNPYERGPAPTAALLEASRGPFATASQSVSSLSVSGFGGGVIYYPTSTSEGTFGAIAISPGYTAAWSSISWLGPRIASHGFVVIGIETNSRLDQPDSRGRQLLAALDYLVQRSSVRGRIDGTRLAVAGHSMGGGGSLEAAVSRPALQAAVPIAPWNLDKTWSDVRVPTLIIGGESDSIAPVSSHSVPFYNSIPASSEKAYLELNGASHFFPQTVNTPTGRQMVAWLKRFVDNDTRYEPFLCPGPSGFEIEEYRNTCPSA',\n",
              " 'MRSPTTTRPRSAVRTMARLAMAAVLAAGGVLATSSGVQAADNPYERGPAPTSAILEASRGPFATASQSVSSWSVSGFGGGVIYYPTSTSEGTFGAIAISPGYTAAWSSISWLGPRIASHGFVVIGIETNTRFDQPDSRGRQLLAALDYLVERSSVRGRIDGTRLAVAGHSMGGGGSLEAAATRPSLQAAVPLAPWNLDKTWSEVRVPTLIIGGESDSIAPVYSHSEPFYSSIPASSEKAYLELNGASHFFPQTVNTPTAKQMVAWLKRFVDNDTRYEQFLCPGPSGFAIEEYRNTCPSY',\n",
              " 'MEPQHKLKRKPRRRLAAFVTALALAAGGVGVTQLSTAAQAAPQDYWRGPDPTESSIEALRGPYSTSTTSVSSFVSGFGGGTIYYPSTTSETFGGVVIAPGFTAYQSSMSWLGHRLASQGFVVFTIDTNSTLDQPASRGDQLLAAVDYLRNSSSVRGRVDGSRMAVMGHSMGGGGSLEAASDRPSLKAAIPLTPWNLDKTWGEVTTPTLIIGAENDSIASVSSHAIPFYTSLSSGTDRMYLELDGASHFAPNSNNTAIAKYSIAWLKRFVDEDTRYEQFLCPLPSDGWFSDFSDVRGNCPH',\n",
              " 'MQQHPHTSRRRTGRLAALTAAVAVVVGLTTLNGPGAQAADNPYERGPAPTESSIEALRGPYAVSDISVSSLSVTGFGGGTIYYPTSTADGTFGAIAISPGFTAYQSSIAWLGPRLASQGFVVFTIDTNTTLDQPASRGDQLLAALDYLTQRSAVRGRVDSSRLGVMGHSMGGGGTLEAAKDRPSLQAAIPLTPWNLDKTWSEVRTPTLLFGADGDTIAPVSSHAEPLYSGLPSSLDRAYIELNGATHFTPNSSNTTIAKYSVSWLKRFIDNDTRYEQFLCPLPRPSLTVEESRGNCPHTS',\n",
              " 'MRLRRLIPSLIPVLALSLAGVTPATAAEAEYRRGPDPTTAGIEAPRGPFTAETTTVSRSSASGFGGGTIYYPTSTAEGTFGAVAISPGFTGTQSSISWYGPRLASHGFVVITIDTNSTLDAPDSRATQLLAALDYLTQRSTVRTRIDASRLGVMGHSMGGGGSLRAAEQRPALQAAIPLTPWHTDKTWPGVQTPTLVIGAENDSTAPVSSHSEPFYTSMPSTMDKAYLELNGASHSAPSSSNTTIAKYSIAWLKRFIDNDTRYEQFLCPAPARGTLIEEYRDTCPHTA',\n",
              " 'MQASPTPRSTSVPTYSARAERAPRRRLRGRLAALSATAALLAGLTTSLTGVADAADNPYERGPAPTNASIEAARGSYAVSQTTVSRSSVSGFGGGTVYYPTSTSDGTFGAVAISPGFTASQSSVSWLGPRLASQGFVVITIDTLSTLDQPAARGGQLLAALDYLTQSSSVRTRIDSTRLGVMGHSMGGGGSLEASKDRPSLQAAVPLTPWNTDKTWPEVQTPTLIVGADGDTVAPVSSHAEPFYTSLPSGLNRAYLELNGASHSAPTSSNTTVAKYSLSWLKRFIDNDTRYEQFLCPLPAASTTIEEYRGNCPHTG',\n",
              " 'MPSRSLRVCPALVALAAAAFAVAPHAHAAPAAPAARTAQAAQAAQNPYERGPAPTEQSVRAERGPFAISQVSVSRLAVSGFGGGTIYYPTSTAEGTFGAVAIAPGYTASQSSMAWYGPRLASQGFVIFTIDTITTGDQPDSRGRQLLAALDYLTQRSSVRSRVDASRLGVMGHSMGGGGSLEATVSRPSLQAAIPLTPWNLDKTWPEVRVPTLIIGAENDSIAPVSSHSEPFYASLPSTLDKAYLELNGASHFAPNVSDTTIARFSISWLKRFIDNDTRYEQFLCPPPRVSTEISEYRDTCPHSG',\n",
              " 'MRNPVKHLLTAATLVATLVAALVAVPAGPALAANPYERGPAPTTASIEASLGSFAIAQVTVARSSVSGFGGGTIYYPTSTAEGTFGAVAASPGFTASQSSVAWYGPRLASQGFVVITIDTLSTLDSPASRGTQLLAALDYLTTSSAVRTRIDATRLGVMGHSMGGGGSLAASRTRPALQAAIPLAPYHTTKNWSTDTVPTLIIGAENDSVAPVSSHAEPFYTSLPASSDKAYLELNNASHSAPTSTNVTIAKYSISWLKRFIDDDTRYEQFLCPAPSGSTIQEYRDTCPHS',\n",
              " 'MTPTNREYTDVQPLTCAPARPRPAVRALGRFAVAVALVAAGIVAVPGPAQAAGPYERGPAPTNAILEASRGPFATASQNVSSLVSGFGGGVIYYPTSTSEGTFGAVAISPGYTASWSSISWLGPRIASHGFVVIGIETNSVLDQPSSRGQQLLAALDYLVEQSSVRTRIDPGRLAVAGHSMGGGGSLDAARSRPSLQAAVPLAPWNLTKSWSSLRVPTLIVGGENDSVASVSSHSIPFYNSIPSSAEKAYLELNGASHFFPQTTNTPTAKQMVSWLKRFVDDDTRYEQFLCPGPTGLAIEEYRNTCPSA',\n",
              " 'MPQHPHTARRGTRRLAGLTAAVAAVVSLTTLSGPGAHAADNPYERGPAPTESSIEATRGPYAVSELSVSSLAVSGFGGGTIYYPTSTADGTFGAVAISPGYTAYQSSIAWLGPRLASQGFVVFTIDTNSTLDQPASRGNQLLAALDYLTQRSAVRGRIDSSRLGVMGHSMGGGGTLEAAKDRPSLQAAVPLTPWNLDKSWPEVRTPTLIFGADGDSIAPVSSHAEPLYSGLPSSLDRAYLELNGATHFTPNSSNTTIAKYSISWLKRFIDNDTRYEQFLCPLPRPSLTIEESRGNCPHTS',\n",
              " 'MRRRLTGAALAIALGAAAFTAPAAGAAENPYERGPAPTNSSIEAPTGPFSTAESSVSSLVGGFGGGTIYYPTSTSEGTYGALAISPGFTATQSSISWMGRRLASQGFVVITIDTNTIYDQPASRGDQLLAALDYLTQQSPSTVRSKIDPSRLAVAGHSMGGGGSLEASVKRPSLQAAIPLAPWNTDKTWNTDQVPTFIIGGESDSVAPVASHAEPFYTSLSSAPDKAYLELNNASHFFPNTPNTTQAKYMISWLKRFVDNDTRYEQFLCPGPSKSTLVEEFRSSCPNG',\n",
              " 'MPVPTLRRTFSLLTAAFAATAAALTVPAAPALAANPYERGPAPTNASIEAARGSFAIAQVTVARSSVSGFGGGTIYYPTDTSAGTFGAVAISPGFTASQSSVAWLGPRLASQGFVVITIDTLSTLDQPDSRGTQLLAALDYLTGTSSVRTRIDASRLGVMGHSMGGGGSLSAARTRPALQAAVPLTPWHGTKSWSTVRVPTLIVGAESDTVAPVSSHAEPFYTSMTSAPEKAYLELNNASHSAPTSGQSVTAAKYSLSWLKRWIDDDTRYDQFLCPAPSGTAIQEYRATCPHA',\n",
              " 'MRNPIPRLLGALTLAAALVAAPAPALAANPYERGPAPTVASIEASRGYYAFAQVTVARSSVSGFGGGTIYYPTSTADGTFGAIAISPGFTASQSSVSWLGPRLASQGFVVITIDTLSTLDQPDSRGTQLLAALTYLTGTSSVRTRIDATRLGVMGHSMGGGGSLSASRTRPSLQAAIPLTPWHGTKNWSSDTVPTLIIGAENDTVAPVSSHAEPFYTSLPSTLDKAYLELNNASHSAPTSTNVTVAKYSISWLKRFIDNDTRYEQFLCPAPSGSAIQEYRDTCPHS',\n",
              " 'MHRTWKRMLVTVAATIALTAPLGATAAHAADNPYERGPNPTLAALQASRGPYAVSTTSVSRLSAVGFGGGTIYYPTSTADGTFGAIAISPGFTAYWSSISWLGPRLASHGFVVIGIETLTTADQPDSRGDQLLAALDYLTSRSSVRSRIDSSRLAVAGHSMGGGGSLEAASDRPSLQAAVPLAPWNLDKSWTELRVPTLIVGGEADTIAPVASHSIPFYTSIPSSAEKSYLELNGASHFFPQSVNTPTAVQAVAWLKRFVDDDTRYSQFICPGPSSLSISDYRSSCPV',\n",
              " 'MRIRSILCALSASALLVAGTPAQAAVPVAANPYERGPAPTTSSIEASRGPFAVASVTVSRSSASGFGGGTVYYPTSTTEGTFGAVAISPGFTASQSSVAWLGPRLASQGFVVITIDTLSTLDQPDSRGGQLLAALDYVRNTSSVRTRVDGTRLGVMGHSMGGGGSLAASRTRPTIQAAVPLTPWHGTKSWSTVGVPTMIIGAENDRVAPVSSHSEPFYTSMSAAQDKAYLELNNASHSAPTSANTTVARYSISWLKRFIDNDTRYEQFLCPAPGPSNLIQEYRDTCPHS',\n",
              " 'MRRGARILCGLSAVAALAIAPTAQAVDNPYERGPDPTENSIEASRGPFSVSQTTVSSLVSGFGGGTIYYPTSTSEGTFGALAISPGFTASQSSIAWLGPRLASQGFVVITIDTNSIYDQPASRGDQLRAALSYLTSSSTVRSRIDASRLAVAGHSMGGGGSLEAAQDQPTLQAAIPLAPWNSQKSWSTLRVPTFIIGGENDSVASVSSHAIPFYNSIPSSAEKAYMEMNGASHFFPNTSNTTVAKYMISWLKRFVDNDTRYEQFLCPAPNDSDIEEYRNTCPHAA',\n",
              " 'MKTAIRLSTAATAVLLALVGASPPAQAADSPYERGPDPTSAILDASRGPFATAQVSVSSLVSGFGGGVIYYPTSTSEGTFGAIAISPGYTAAWSSISWLGPRIASHGFVVIGIETNSRLDQPDSRGRQLLAALDYLVEGSSVRSRVDAGRLAVAGHSMGGGGSLEASRDRPSLQAAIPIAPWNSTKTWSGIRVPTLIIGGENDSVAPVSSHAVPFYSTIPASSEKAYLELNGASHFFPQSVNTPTGRQMVAWLKRFVDDDTRYEQFLCPGPSGSAVEEYRNTCPSA',\n",
              " 'MQLSSVSTRARRILVTAATALALVAVPGVTAAQAADNPYERGPAPTRALLEASRGPYSVSTTSVSRLAVSGFGGGEIYYPTSTSDGTFGAIAISPGFTAYWSSISWLGPRLASHGFVVIGIETNSTADQPASRGQQLLAALDYLTRSSSVRSRIDSSRLAVAGHSMGGGGSLEAASDRPSLQAAVPLAPWNLDKSWSELRVPTLIIGGESDSIASVSSHSIPFYNSIPSSAEKAYLELNNASHFFPQSTNTPTAVQMVSWLKRFVDDDTRYNQFICPGPSTGVSISDYRSSCPLG',\n",
              " 'MAVITPRRERSSLLSRALRFTAAAATALVTAVSLAAPAHAANPYERGPNPTDALLEARSGPFSVSEERASRFGADGFGGGTIYYPRENNTYGAVAISPGYTGTQASVAWLGERIASHGFVVITIDTNTTLDQPDSRARQLNAALDYMINDASSAVRSRIDSSRLAVMGHSMGGGGTLRLASQRPDLKAAIPLTPWHLNKNWSSVRVPTLIIGADLDTIAPVLTHARPFYNSLPTSISKAYLELDGATHFAPNIPNKIIGKYSVAWLKRFVDNDTRYTQFLCPGPRDGLFGEVEEYRSTCPF',\n",
              " 'MRLRALFPAMALLAASAVAAPPAALAAASPYERGPAPTTASVEAARGPFATATATVSSVSGFGGGTVYYPTSTAEGTFGAVAISPGFTATQSSVAWLGPRLASQGFVVITINTLSTLDQPDSRGAQLLAALDYLTTSSSVRTRIDASRLGVMGHSMGGGGSLRATVSRPSLQAAIPLAPWHTTKNWSSTRVPTMIIGAESDSTAPVSSHSEPFYTSMTSAPDKAYLELNNAGHSAPTSANTTVAKYSISWLKRFIDNDTRYDQFLCPAPSPSSLIEEYRATCPHS']"
            ]
          },
          "execution_count": 36,
          "metadata": {},
          "output_type": "execute_result"
        }
      ],
      "source": [
        "seq_list = K_result_df['seq'].tolist()\n",
        "seq_list"
      ]
    },
    {
      "cell_type": "code",
      "execution_count": null,
      "metadata": {
        "id": "MmPDCUXi6YQh"
      },
      "outputs": [],
      "source": [
        "d = 60 # set the distance\n",
        "threshold_x, threshold_y = 0.80, 0.80 # change this threshold"
      ]
    },
    {
      "cell_type": "code",
      "execution_count": 38,
      "metadata": {
        "colab": {
          "base_uri": "https://localhost:8080/"
        },
        "id": "QjLePZoX6NYH",
        "outputId": "5a3e2fab-c2b7-4bdc-9e5e-fdea1f311220"
      },
      "outputs": [
        {
          "name": "stdout",
          "output_type": "stream",
          "text": [
            "MPLVATLGLALAAGSLAPSASAAAGDPATVETPPVVSQRAIDEHAATEPQLSLDAPAALPPVTIAASPYERGPAPTVASIEAARGPFAVAQTTVSRFAASGFGGGTITYPTSTAEGTFGAVAISPGYTAAQSSISWLGPRLASQGFVVITIDTNSRYDQPSSRGDQLRAALAYLTGSSSVRGRIDASRLAVMGHSMGGGGALEAAKDNPALQAAIPMTPWNTDKTWPEVQTPTLIIGAQNDSVASVTTHAEPFYENLPGSLDKAYLELRGASHFAPNTSNTTIARQSIAWLKRFVDDDERYAQFLCPPPSGTAISEYRSTCPY\n"
          ]
        },
        {
          "name": "stderr",
          "output_type": "stream",
          "text": [
            "100%|██████████| 292/292 [00:00<00:00, 15461.70it/s]\n",
            "100%|██████████| 293/293 [00:00<00:00, 15373.55it/s]\n"
          ]
        },
        {
          "name": "stdout",
          "output_type": "stream",
          "text": [
            "[]\n",
            "This sequence does not meet the condition\n",
            "MSAARPGGPPRPRGRLVVQQHPRSTTASAAPGPARGAGRRGTRRFAGAAAAIAAAVALSTLTGPGARAADNPYERGPAPTTASIEASRGPYSVSETSVSSLAVSGFGGGTIYYPTSTADGTFGAVAVSPGYTGTQSSIAWLGPRLASQGFVVFTIDTLTTLDQPDSRGRQLLAALDYLTTRSSVRGRVDSTRLGVMGHSMGGGGSLEAAKSRPSLQAAIPLTPWNLDKSWPEVTTPTLIVGADGDSIAPVSSHAEPFYGSLRSSLDRAYLELNGASHFTPNSSNTTIAKYSVSWLKRFIDNDTRYEQFLCPLPSPSLTIEEYRGNCPHTS\n"
          ]
        },
        {
          "name": "stderr",
          "output_type": "stream",
          "text": [
            "100%|██████████| 299/299 [00:00<00:00, 16883.83it/s]\n",
            "100%|██████████| 300/300 [00:00<00:00, 14062.42it/s]\n"
          ]
        },
        {
          "name": "stdout",
          "output_type": "stream",
          "text": [
            "[]\n",
            "This sequence does not meet the condition\n",
            "MSSPTTTVRPRPAVRLAGLAVAAVLATAGAFAAPPAAQAAANPYERGPAPTVALLEASRGPFATASQSVSSLSVTGFGGGVIYYPTSTAEGTFGAVAISPGYTAAWSSIDWLGPRIASHGFVVIGIETNTRLDQPDSRGRQLLAALDYLTQRSSVRGRIDASRLAVSGHSMGGGGSLEAAVARPSLQAAVPLAPWNLDKTWSDVRVPTLIIGGESDSIAPVSSHSEPFYNSIPASSEKAYLELNGASHFFPQTVNTPTARQAVAWLKRFVDDDTRYEQFLCPGPSGSAVQEYRNTCPSA\n"
          ]
        },
        {
          "name": "stderr",
          "output_type": "stream",
          "text": [
            "100%|██████████| 268/268 [00:00<00:00, 12626.63it/s]\n",
            "100%|██████████| 269/269 [00:00<00:00, 18769.11it/s]\n"
          ]
        },
        {
          "name": "stdout",
          "output_type": "stream",
          "text": [
            "[]\n",
            "This sequence does not meet the condition\n",
            "MSAPTTTRTRPLARVTRLAVATVLAAAGVLAAAPAQAADNPYERGPAPTAALLEASRGPFATASQSVSSLSVSGFGGGVIYYPTSTSEGTFGAIAISPGYTAAWSSISWLGPRIASHGFVVIGIETNSRLDQPDSRGRQLLAALDYLVQRSSVRGRIDGTRLAVAGHSMGGGGSLEAAVSRPALQAAVPIAPWNLDKTWSDVRVPTLIIGGESDSIAPVSSHSVPFYNSIPASSEKAYLELNGASHFFPQTVNTPTGRQMVAWLKRFVDNDTRYEPFLCPGPSGFEIEEYRNTCPSA\n"
          ]
        },
        {
          "name": "stderr",
          "output_type": "stream",
          "text": [
            "100%|██████████| 266/266 [00:00<00:00, 15998.92it/s]\n",
            "100%|██████████| 267/267 [00:00<00:00, 16612.46it/s]\n"
          ]
        },
        {
          "name": "stdout",
          "output_type": "stream",
          "text": [
            "[]\n",
            "This sequence does not meet the condition\n",
            "MRSPTTTRPRSAVRTMARLAMAAVLAAGGVLATSSGVQAADNPYERGPAPTSAILEASRGPFATASQSVSSWSVSGFGGGVIYYPTSTSEGTFGAIAISPGYTAAWSSISWLGPRIASHGFVVIGIETNTRFDQPDSRGRQLLAALDYLVERSSVRGRIDGTRLAVAGHSMGGGGSLEAAATRPSLQAAVPLAPWNLDKTWSEVRVPTLIIGGESDSIAPVYSHSEPFYSSIPASSEKAYLELNGASHFFPQTVNTPTAKQMVAWLKRFVDNDTRYEQFLCPGPSGFAIEEYRNTCPSY\n"
          ]
        },
        {
          "name": "stderr",
          "output_type": "stream",
          "text": [
            "100%|██████████| 268/268 [00:00<00:00, 14806.03it/s]\n",
            "100%|██████████| 269/269 [00:00<00:00, 16993.52it/s]\n"
          ]
        },
        {
          "name": "stdout",
          "output_type": "stream",
          "text": [
            "[]\n",
            "This sequence does not meet the condition\n",
            "MEPQHKLKRKPRRRLAAFVTALALAAGGVGVTQLSTAAQAAPQDYWRGPDPTESSIEALRGPYSTSTTSVSSFVSGFGGGTIYYPSTTSETFGGVVIAPGFTAYQSSMSWLGHRLASQGFVVFTIDTNSTLDQPASRGDQLLAAVDYLRNSSSVRGRVDGSRMAVMGHSMGGGGSLEAASDRPSLKAAIPLTPWNLDKTWGEVTTPTLIIGAENDSIASVSSHAIPFYTSLSSGTDRMYLELDGASHFAPNSNNTAIAKYSIAWLKRFVDEDTRYEQFLCPLPSDGWFSDFSDVRGNCPH\n"
          ]
        },
        {
          "name": "stderr",
          "output_type": "stream",
          "text": [
            "100%|██████████| 269/269 [00:00<00:00, 10194.88it/s]\n",
            "100%|██████████| 270/270 [00:00<00:00, 32385.67it/s]\n"
          ]
        },
        {
          "name": "stdout",
          "output_type": "stream",
          "text": [
            "[]\n",
            "This sequence does not meet the condition\n",
            "MQQHPHTSRRRTGRLAALTAAVAVVVGLTTLNGPGAQAADNPYERGPAPTESSIEALRGPYAVSDISVSSLSVTGFGGGTIYYPTSTADGTFGAIAISPGFTAYQSSIAWLGPRLASQGFVVFTIDTNTTLDQPASRGDQLLAALDYLTQRSAVRGRVDSSRLGVMGHSMGGGGTLEAAKDRPSLQAAIPLTPWNLDKTWSEVRTPTLLFGADGDTIAPVSSHAEPLYSGLPSSLDRAYIELNGATHFTPNSSNTTIAKYSVSWLKRFIDNDTRYEQFLCPLPRPSLTVEESRGNCPHTS\n"
          ]
        },
        {
          "name": "stderr",
          "output_type": "stream",
          "text": [
            "100%|██████████| 269/269 [00:00<00:00, 16713.59it/s]\n",
            "100%|██████████| 270/270 [00:00<00:00, 16236.48it/s]\n"
          ]
        },
        {
          "name": "stdout",
          "output_type": "stream",
          "text": [
            "[]\n",
            "This sequence does not meet the condition\n",
            "MRLRRLIPSLIPVLALSLAGVTPATAAEAEYRRGPDPTTAGIEAPRGPFTAETTTVSRSSASGFGGGTIYYPTSTAEGTFGAVAISPGFTGTQSSISWYGPRLASHGFVVITIDTNSTLDAPDSRATQLLAALDYLTQRSTVRTRIDASRLGVMGHSMGGGGSLRAAEQRPALQAAIPLTPWHTDKTWPGVQTPTLVIGAENDSTAPVSSHSEPFYTSMPSTMDKAYLELNGASHSAPSSSNTTIAKYSIAWLKRFIDNDTRYEQFLCPAPARGTLIEEYRDTCPHTA\n"
          ]
        },
        {
          "name": "stderr",
          "output_type": "stream",
          "text": [
            "100%|██████████| 257/257 [00:00<00:00, 15107.30it/s]\n",
            "100%|██████████| 258/258 [00:00<00:00, 16001.69it/s]\n"
          ]
        },
        {
          "name": "stdout",
          "output_type": "stream",
          "text": [
            "[]\n",
            "This sequence does not meet the condition\n",
            "MQASPTPRSTSVPTYSARAERAPRRRLRGRLAALSATAALLAGLTTSLTGVADAADNPYERGPAPTNASIEAARGSYAVSQTTVSRSSVSGFGGGTVYYPTSTSDGTFGAVAISPGFTASQSSVSWLGPRLASQGFVVITIDTLSTLDQPAARGGQLLAALDYLTQSSSVRTRIDSTRLGVMGHSMGGGGSLEASKDRPSLQAAVPLTPWNTDKTWPEVQTPTLIVGADGDTVAPVSSHAEPFYTSLPSGLNRAYLELNGASHSAPTSSNTTVAKYSLSWLKRFIDNDTRYEQFLCPLPAASTTIEEYRGNCPHTG\n"
          ]
        },
        {
          "name": "stderr",
          "output_type": "stream",
          "text": [
            "100%|██████████| 285/285 [00:00<00:00, 16176.04it/s]\n",
            "100%|██████████| 286/286 [00:00<00:00, 15585.12it/s]\n"
          ]
        },
        {
          "name": "stdout",
          "output_type": "stream",
          "text": [
            "[]\n",
            "This sequence does not meet the condition\n",
            "MPSRSLRVCPALVALAAAAFAVAPHAHAAPAAPAARTAQAAQAAQNPYERGPAPTEQSVRAERGPFAISQVSVSRLAVSGFGGGTIYYPTSTAEGTFGAVAIAPGYTASQSSMAWYGPRLASQGFVIFTIDTITTGDQPDSRGRQLLAALDYLTQRSSVRSRVDASRLGVMGHSMGGGGSLEATVSRPSLQAAIPLTPWNLDKTWPEVRVPTLIIGAENDSIAPVSSHSEPFYASLPSTLDKAYLELNGASHFAPNVSDTTIARFSISWLKRFIDNDTRYEQFLCPPPRVSTEISEYRDTCPHSG\n"
          ]
        },
        {
          "name": "stderr",
          "output_type": "stream",
          "text": [
            "100%|██████████| 274/274 [00:00<00:00, 15170.67it/s]\n",
            "100%|██████████| 275/275 [00:00<00:00, 15425.80it/s]\n"
          ]
        },
        {
          "name": "stdout",
          "output_type": "stream",
          "text": [
            "[]\n",
            "This sequence does not meet the condition\n",
            "MRNPVKHLLTAATLVATLVAALVAVPAGPALAANPYERGPAPTTASIEASLGSFAIAQVTVARSSVSGFGGGTIYYPTSTAEGTFGAVAASPGFTASQSSVAWYGPRLASQGFVVITIDTLSTLDSPASRGTQLLAALDYLTTSSAVRTRIDATRLGVMGHSMGGGGSLAASRTRPALQAAIPLAPYHTTKNWSTDTVPTLIIGAENDSVAPVSSHAEPFYTSLPASSDKAYLELNNASHSAPTSTNVTIAKYSISWLKRFIDDDTRYEQFLCPAPSGSTIQEYRDTCPHS\n"
          ]
        },
        {
          "name": "stderr",
          "output_type": "stream",
          "text": [
            "100%|██████████| 260/260 [00:00<00:00, 16606.55it/s]\n",
            "100%|██████████| 261/261 [00:00<00:00, 13493.66it/s]\n"
          ]
        },
        {
          "name": "stdout",
          "output_type": "stream",
          "text": [
            "[]\n",
            "This sequence does not meet the condition\n",
            "MTPTNREYTDVQPLTCAPARPRPAVRALGRFAVAVALVAAGIVAVPGPAQAAGPYERGPAPTNAILEASRGPFATASQNVSSLVSGFGGGVIYYPTSTSEGTFGAVAISPGYTASWSSISWLGPRIASHGFVVIGIETNSVLDQPSSRGQQLLAALDYLVEQSSVRTRIDPGRLAVAGHSMGGGGSLDAARSRPSLQAAVPLAPWNLTKSWSSLRVPTLIVGGENDSVASVSSHSIPFYNSIPSSAEKAYLELNGASHFFPQTTNTPTAKQMVSWLKRFVDDDTRYEQFLCPGPTGLAIEEYRNTCPSA\n"
          ]
        },
        {
          "name": "stderr",
          "output_type": "stream",
          "text": [
            "100%|██████████| 278/278 [00:00<00:00, 16775.53it/s]\n",
            "100%|██████████| 279/279 [00:00<00:00, 23535.07it/s]\n"
          ]
        },
        {
          "name": "stdout",
          "output_type": "stream",
          "text": [
            "[]\n",
            "This sequence does not meet the condition\n",
            "MPQHPHTARRGTRRLAGLTAAVAAVVSLTTLSGPGAHAADNPYERGPAPTESSIEATRGPYAVSELSVSSLAVSGFGGGTIYYPTSTADGTFGAVAISPGYTAYQSSIAWLGPRLASQGFVVFTIDTNSTLDQPASRGNQLLAALDYLTQRSAVRGRIDSSRLGVMGHSMGGGGTLEAAKDRPSLQAAVPLTPWNLDKSWPEVRTPTLIFGADGDSIAPVSSHAEPLYSGLPSSLDRAYLELNGATHFTPNSSNTTIAKYSISWLKRFIDNDTRYEQFLCPLPRPSLTIEESRGNCPHTS\n"
          ]
        },
        {
          "name": "stderr",
          "output_type": "stream",
          "text": [
            "100%|██████████| 269/269 [00:00<00:00, 15270.80it/s]\n",
            "100%|██████████| 270/270 [00:00<00:00, 17321.76it/s]\n"
          ]
        },
        {
          "name": "stdout",
          "output_type": "stream",
          "text": [
            "[]\n",
            "This sequence does not meet the condition\n",
            "MRRRLTGAALAIALGAAAFTAPAAGAAENPYERGPAPTNSSIEAPTGPFSTAESSVSSLVGGFGGGTIYYPTSTSEGTYGALAISPGFTATQSSISWMGRRLASQGFVVITIDTNTIYDQPASRGDQLLAALDYLTQQSPSTVRSKIDPSRLAVAGHSMGGGGSLEASVKRPSLQAAIPLAPWNTDKTWNTDQVPTFIIGGESDSVAPVASHAEPFYTSLSSAPDKAYLELNNASHFFPNTPNTTQAKYMISWLKRFVDNDTRYEQFLCPGPSKSTLVEEFRSSCPNG\n"
          ]
        },
        {
          "name": "stderr",
          "output_type": "stream",
          "text": [
            "100%|██████████| 257/257 [00:00<00:00, 15240.37it/s]\n",
            "100%|██████████| 258/258 [00:00<00:00, 15782.32it/s]\n"
          ]
        },
        {
          "name": "stdout",
          "output_type": "stream",
          "text": [
            "[]\n",
            "This sequence does not meet the condition\n",
            "MPVPTLRRTFSLLTAAFAATAAALTVPAAPALAANPYERGPAPTNASIEAARGSFAIAQVTVARSSVSGFGGGTIYYPTDTSAGTFGAVAISPGFTASQSSVAWLGPRLASQGFVVITIDTLSTLDQPDSRGTQLLAALDYLTGTSSVRTRIDASRLGVMGHSMGGGGSLSAARTRPALQAAVPLTPWHGTKSWSTVRVPTLIVGAESDTVAPVSSHAEPFYTSMTSAPEKAYLELNNASHSAPTSGQSVTAAKYSLSWLKRWIDDDTRYDQFLCPAPSGTAIQEYRATCPHA\n"
          ]
        },
        {
          "name": "stderr",
          "output_type": "stream",
          "text": [
            "100%|██████████| 262/262 [00:00<00:00, 15021.63it/s]\n",
            "100%|██████████| 263/263 [00:00<00:00, 16373.06it/s]\n"
          ]
        },
        {
          "name": "stdout",
          "output_type": "stream",
          "text": [
            "[]\n",
            "This sequence does not meet the condition\n",
            "MRNPIPRLLGALTLAAALVAAPAPALAANPYERGPAPTVASIEASRGYYAFAQVTVARSSVSGFGGGTIYYPTSTADGTFGAIAISPGFTASQSSVSWLGPRLASQGFVVITIDTLSTLDQPDSRGTQLLAALTYLTGTSSVRTRIDATRLGVMGHSMGGGGSLSASRTRPSLQAAIPLTPWHGTKNWSSDTVPTLIIGAENDTVAPVSSHAEPFYTSLPSTLDKAYLELNNASHSAPTSTNVTVAKYSISWLKRFIDNDTRYEQFLCPAPSGSAIQEYRDTCPHS\n"
          ]
        },
        {
          "name": "stderr",
          "output_type": "stream",
          "text": [
            "100%|██████████| 255/255 [00:00<00:00, 14674.86it/s]\n",
            "100%|██████████| 256/256 [00:00<00:00, 16083.37it/s]\n"
          ]
        },
        {
          "name": "stdout",
          "output_type": "stream",
          "text": [
            "[]\n",
            "This sequence does not meet the condition\n",
            "MHRTWKRMLVTVAATIALTAPLGATAAHAADNPYERGPNPTLAALQASRGPYAVSTTSVSRLSAVGFGGGTIYYPTSTADGTFGAIAISPGFTAYWSSISWLGPRLASHGFVVIGIETLTTADQPDSRGDQLLAALDYLTSRSSVRSRIDSSRLAVAGHSMGGGGSLEAASDRPSLQAAVPLAPWNLDKSWTELRVPTLIVGGEADTIAPVASHSIPFYTSIPSSAEKSYLELNGASHFFPQSVNTPTAVQAVAWLKRFVDDDTRYSQFICPGPSSLSISDYRSSCPV\n"
          ]
        },
        {
          "name": "stderr",
          "output_type": "stream",
          "text": [
            "100%|██████████| 257/257 [00:00<?, ?it/s]\n",
            "100%|██████████| 258/258 [00:00<00:00, 16494.38it/s]\n"
          ]
        },
        {
          "name": "stdout",
          "output_type": "stream",
          "text": [
            "[]\n",
            "This sequence does not meet the condition\n",
            "MRIRSILCALSASALLVAGTPAQAAVPVAANPYERGPAPTTSSIEASRGPFAVASVTVSRSSASGFGGGTVYYPTSTTEGTFGAVAISPGFTASQSSVAWLGPRLASQGFVVITIDTLSTLDQPDSRGGQLLAALDYVRNTSSVRTRVDGTRLGVMGHSMGGGGSLAASRTRPTIQAAVPLTPWHGTKSWSTVGVPTMIIGAENDRVAPVSSHSEPFYTSMSAAQDKAYLELNNASHSAPTSANTTVARYSISWLKRFIDNDTRYEQFLCPAPGPSNLIQEYRDTCPHS\n"
          ]
        },
        {
          "name": "stderr",
          "output_type": "stream",
          "text": [
            "100%|██████████| 258/258 [00:00<00:00, 16524.86it/s]\n",
            "100%|██████████| 259/259 [00:00<00:00, 14103.17it/s]\n"
          ]
        },
        {
          "name": "stdout",
          "output_type": "stream",
          "text": [
            "[]\n",
            "This sequence does not meet the condition\n",
            "MRRGARILCGLSAVAALAIAPTAQAVDNPYERGPDPTENSIEASRGPFSVSQTTVSSLVSGFGGGTIYYPTSTSEGTFGALAISPGFTASQSSIAWLGPRLASQGFVVITIDTNSIYDQPASRGDQLRAALSYLTSSSTVRSRIDASRLAVAGHSMGGGGSLEAAQDQPTLQAAIPLAPWNSQKSWSTLRVPTFIIGGENDSVASVSSHAIPFYNSIPSSAEKAYMEMNGASHFFPNTSNTTVAKYMISWLKRFVDNDTRYEQFLCPAPNDSDIEEYRNTCPHAA\n"
          ]
        },
        {
          "name": "stderr",
          "output_type": "stream",
          "text": [
            "100%|██████████| 254/254 [00:00<00:00, 16249.55it/s]\n",
            "100%|██████████| 255/255 [00:00<00:00, 15104.26it/s]\n"
          ]
        },
        {
          "name": "stdout",
          "output_type": "stream",
          "text": [
            "[]\n",
            "This sequence does not meet the condition\n",
            "MKTAIRLSTAATAVLLALVGASPPAQAADSPYERGPDPTSAILDASRGPFATAQVSVSSLVSGFGGGVIYYPTSTSEGTFGAIAISPGYTAAWSSISWLGPRIASHGFVVIGIETNSRLDQPDSRGRQLLAALDYLVEGSSVRSRVDAGRLAVAGHSMGGGGSLEASRDRPSLQAAIPIAPWNSTKTWSGIRVPTLIIGGENDSVAPVSSHAVPFYSTIPASSEKAYLELNGASHFFPQSVNTPTGRQMVAWLKRFVDDDTRYEQFLCPGPSGSAVEEYRNTCPSA\n"
          ]
        },
        {
          "name": "stderr",
          "output_type": "stream",
          "text": [
            "100%|██████████| 255/255 [00:00<00:00, 14128.77it/s]\n",
            "100%|██████████| 256/256 [00:00<00:00, 16970.52it/s]\n"
          ]
        },
        {
          "name": "stdout",
          "output_type": "stream",
          "text": [
            "[]\n",
            "This sequence does not meet the condition\n",
            "MQLSSVSTRARRILVTAATALALVAVPGVTAAQAADNPYERGPAPTRALLEASRGPYSVSTTSVSRLAVSGFGGGEIYYPTSTSDGTFGAIAISPGFTAYWSSISWLGPRLASHGFVVIGIETNSTADQPASRGQQLLAALDYLTRSSSVRSRIDSSRLAVAGHSMGGGGSLEAASDRPSLQAAVPLAPWNLDKSWSELRVPTLIIGGESDSIASVSSHSIPFYNSIPSSAEKAYLELNNASHFFPQSTNTPTAVQMVSWLKRFVDDDTRYNQFICPGPSTGVSISDYRSSCPLG\n"
          ]
        },
        {
          "name": "stderr",
          "output_type": "stream",
          "text": [
            "100%|██████████| 264/264 [00:00<00:00, 16885.69it/s]\n",
            "100%|██████████| 265/265 [00:00<00:00, 16954.31it/s]\n"
          ]
        },
        {
          "name": "stdout",
          "output_type": "stream",
          "text": [
            "[]\n",
            "This sequence does not meet the condition\n",
            "MAVITPRRERSSLLSRALRFTAAAATALVTAVSLAAPAHAANPYERGPNPTDALLEARSGPFSVSEERASRFGADGFGGGTIYYPRENNTYGAVAISPGYTGTQASVAWLGERIASHGFVVITIDTNTTLDQPDSRARQLNAALDYMINDASSAVRSRIDSSRLAVMGHSMGGGGTLRLASQRPDLKAAIPLTPWHLNKNWSSVRVPTLIIGADLDTIAPVLTHARPFYNSLPTSISKAYLELDGATHFAPNIPNKIIGKYSVAWLKRFVDNDTRYTQFLCPGPRDGLFGEVEEYRSTCPF\n"
          ]
        },
        {
          "name": "stderr",
          "output_type": "stream",
          "text": [
            "100%|██████████| 270/270 [00:00<00:00, 17266.83it/s]\n",
            "100%|██████████| 271/271 [00:00<00:00, 14565.24it/s]\n"
          ]
        },
        {
          "name": "stdout",
          "output_type": "stream",
          "text": [
            "[]\n",
            "This sequence does not meet the condition\n",
            "MRLRALFPAMALLAASAVAAPPAALAAASPYERGPAPTTASVEAARGPFATATATVSSVSGFGGGTVYYPTSTAEGTFGAVAISPGFTATQSSVAWLGPRLASQGFVVITINTLSTLDQPDSRGAQLLAALDYLTTSSSVRTRIDASRLGVMGHSMGGGGSLRATVSRPSLQAAIPLAPWHTTKNWSSTRVPTMIIGAESDSTAPVSSHSEPFYTSMTSAPDKAYLELNNAGHSAPTSANTTVAKYSISWLKRFIDNDTRYDQFLCPAPSPSSLIEEYRATCPHS\n"
          ]
        },
        {
          "name": "stderr",
          "output_type": "stream",
          "text": [
            "100%|██████████| 254/254 [00:00<00:00, 16022.52it/s]\n",
            "100%|██████████| 255/255 [00:00<00:00, 14671.43it/s]"
          ]
        },
        {
          "name": "stdout",
          "output_type": "stream",
          "text": [
            "[]\n",
            "This sequence does not meet the condition\n"
          ]
        },
        {
          "name": "stderr",
          "output_type": "stream",
          "text": [
            "\n"
          ]
        }
      ],
      "source": [
        "array_meet_condition = []\n",
        "\n",
        "for seq in seq_list:\n",
        "  print(seq)\n",
        "  results = find_separated_substrings(seq, M1, M2, d, x, y,threshold_x, threshold_y)\n",
        "  print(results)\n",
        "  if results:\n",
        "    array_meet_condition.append(seq)\n",
        "  else:\n",
        "    print(f\"This sequence does not meet the condition\")"
      ]
    },
    {
      "cell_type": "code",
      "execution_count": 39,
      "metadata": {
        "colab": {
          "base_uri": "https://localhost:8080/"
        },
        "id": "3GREA25f66Ce",
        "outputId": "ca67d964-fee8-46be-d07c-811d99b2ecf9"
      },
      "outputs": [
        {
          "name": "stdout",
          "output_type": "stream",
          "text": [
            "0\n"
          ]
        }
      ],
      "source": [
        "print(len(array_meet_condition))"
      ]
    },
    {
      "cell_type": "code",
      "execution_count": 40,
      "metadata": {
        "colab": {
          "base_uri": "https://localhost:8080/",
          "height": 770
        },
        "id": "ozqkzCo07gC7",
        "outputId": "4acf1a89-5b65-430b-db80-cd288d713d51"
      },
      "outputs": [
        {
          "data": {
            "text/html": [
              "<div>\n",
              "<style scoped>\n",
              "    .dataframe tbody tr th:only-of-type {\n",
              "        vertical-align: middle;\n",
              "    }\n",
              "\n",
              "    .dataframe tbody tr th {\n",
              "        vertical-align: top;\n",
              "    }\n",
              "\n",
              "    .dataframe thead th {\n",
              "        text-align: right;\n",
              "    }\n",
              "</style>\n",
              "<table border=\"1\" class=\"dataframe\">\n",
              "  <thead>\n",
              "    <tr style=\"text-align: right;\">\n",
              "      <th></th>\n",
              "      <th>seq</th>\n",
              "    </tr>\n",
              "  </thead>\n",
              "  <tbody>\n",
              "  </tbody>\n",
              "</table>\n",
              "</div>"
            ],
            "text/plain": [
              "Empty DataFrame\n",
              "Columns: [seq]\n",
              "Index: []"
            ]
          },
          "execution_count": 40,
          "metadata": {},
          "output_type": "execute_result"
        }
      ],
      "source": [
        "new_df = pd.DataFrame(array_meet_condition, columns=['seq'])\n",
        "new_df"
      ]
    },
    {
      "cell_type": "code",
      "execution_count": 41,
      "metadata": {
        "id": "8KcmIUP88gVf"
      },
      "outputs": [],
      "source": [
        "new_df.to_csv(f'result_{threshold_x}_x_{threshold_y}_y.csv', index=False)"
      ]
    },
    {
      "cell_type": "code",
      "execution_count": 42,
      "metadata": {
        "id": "DhyRuOQC8rhI"
      },
      "outputs": [],
      "source": [
        "new_df.to_excel(f'result_{threshold_x}_x_{threshold_y}_y.xlsx', index=False)"
      ]
    },
    {
      "cell_type": "code",
      "execution_count": null,
      "metadata": {},
      "outputs": [
        {
          "name": "stderr",
          "output_type": "stream",
          "text": [
            "Analyzing sequences: 100%|██████████| 23/23 [00:00<00:00, 31.30it/s]"
          ]
        },
        {
          "name": "stdout",
          "output_type": "stream",
          "text": [
            "Best candidate sequence: MHRTWKRMLVTVAATIALTAPLGATAAHAADNPYERGPNPTLAALQASRGPYAVSTTSVSRLSAVGFGGGTIYYPTSTADGTFGAIAISPGFTAYWSSISWLGPRLASHGFVVIGIETLTTADQPDSRGDQLLAALDYLTSRSSVRSRIDSSRLAVAGHSMGGGGSLEAASDRPSLQAAVPLAPWNLDKSWTELRVPTLIVGGEADTIAPVASHSIPFYTSIPSSAEKSYLELNGASHFFPQSVNTPTAVQAVAWLKRFVDDDTRYSQFICPGPSSLSISDYRSSCPV\n",
            "Conservation score for M1: 29.01% (threshold: 80.0%)\n",
            "Conservation score for M2: 13.53% (threshold: 80.0%)\n",
            "Combined score (max 2.0): 0.5318\n"
          ]
        },
        {
          "name": "stderr",
          "output_type": "stream",
          "text": [
            "\n"
          ]
        }
      ],
      "source": [
        "def find_best_candidate(sequence_list, M1, M2, d, x, y, threshold_x, threshold_y):    \n",
        "    best_sequence = None\n",
        "    best_score_x = 0\n",
        "    best_score_y = 0\n",
        "    best_combined_score = 0 \n",
        "    \n",
        "    for seq in tqdm(sequence_list, desc=\"Analyzing sequences\"):\n",
        "        len_M1 = len(M1)\n",
        "        best_var1_score = 0\n",
        "        best_var1_pos = -1\n",
        "        best_var1 = \"\"\n",
        "        \n",
        "        for i in range(len(seq) - len_M1 + 1):\n",
        "            substring1 = seq[i:i+len_M1]\n",
        "            conservation_score = calculate_conservation_score(substring1, M1)\n",
        "            ratio_x = conservation_score / x\n",
        "            if ratio_x > best_var1_score:\n",
        "                best_var1_score = ratio_x\n",
        "                best_var1_pos = i\n",
        "                best_var1 = substring1\n",
        "\n",
        "        len_M2 = len(M2)\n",
        "        best_var2_score = 0\n",
        "        best_var2_pos = -1\n",
        "        best_var2 = \"\"\n",
        "        \n",
        "        for i in range(len(seq) - len_M2 + 1):\n",
        "            substring2 = seq[i:i+len_M2]\n",
        "            conservation_score = calculate_conservation_score(substring2, M2)\n",
        "            ratio_y = conservation_score / y\n",
        "            if ratio_y > best_var2_score:\n",
        "                best_var2_score = ratio_y\n",
        "                best_var2_pos = i\n",
        "                best_var2 = substring2\n",
        "        \n",
        "        if abs(best_var1_pos - best_var2_pos) >= d:\n",
        "            combined_score = min(best_var1_score / threshold_x, 1) + min(best_var2_score / threshold_y, 1)\n",
        "            \n",
        "            # Update the best sequence\n",
        "            if combined_score > best_combined_score:\n",
        "                best_combined_score = combined_score\n",
        "                best_sequence = seq\n",
        "                best_score_x = best_var1_score\n",
        "                best_score_y = best_var2_score\n",
        "    \n",
        "    return {\n",
        "        'sequence': best_sequence,\n",
        "        'score_x': best_score_x,\n",
        "        'score_y': best_score_y,\n",
        "        'combined_score': best_combined_score,\n",
        "        'threshold_x': threshold_x,\n",
        "        'threshold_y': threshold_y,\n",
        "        'percent_x': best_score_x * 100,\n",
        "        'percent_y': best_score_y * 100\n",
        "    }\n",
        "\n",
        "best_candidate = find_best_candidate(seq_list, M1, M2, d, x, y, threshold_x, threshold_y)\n",
        "print(f\"Best candidate sequence: {best_candidate['sequence']}\")\n",
        "print(f\"Conservation score for M1: {best_candidate['percent_x']:.2f}% (threshold: {threshold_x*100}%)\")\n",
        "print(f\"Conservation score for M2: {best_candidate['percent_y']:.2f}% (threshold: {threshold_y*100}%)\")\n",
        "print(f\"Combined score (max 2.0): {best_candidate['combined_score']:.4f}\")\n"
      ]
    },
    {
      "cell_type": "code",
      "execution_count": 44,
      "metadata": {},
      "outputs": [
        {
          "name": "stdout",
          "output_type": "stream",
          "text": [
            "MHRTWKRMLVTVAATIALTAPLGATAAHAADNPYERGPNPTLAALQASRGPYAVSTTSVSRLSAVGFGGGTIYYPTSTADGTFGAIAISPGFTAYWSSISWLGPRLASHGFVVIGIETLTTADQPDSRGDQLLAALDYLTSRSSVRSRIDSSRLAVAGHSMGGGGSLEAASDRPSLQAAVPLAPWNLDKSWTELRVPTLIVGGEADTIAPVASHSIPFYTSIPSSAEKSYLELNGASHFFPQSVNTPTAVQAVAWLKRFVDDDTRYSQFICPGPSSLSISDYRSSCPV\n"
          ]
        }
      ],
      "source": [
        "print(best_candidate['sequence'])"
      ]
    },
    {
      "cell_type": "code",
      "execution_count": 45,
      "metadata": {},
      "outputs": [
        {
          "name": "stdout",
          "output_type": "stream",
          "text": [
            "String successfully written to 'final_output_str.txt'\n"
          ]
        }
      ],
      "source": [
        "def string_to_txt(text, filename):\n",
        "  try:\n",
        "    with open(filename, 'w') as file:\n",
        "      file.write(text)\n",
        "    print(f\"String successfully written to '{filename}'\")\n",
        "  except Exception as e:\n",
        "      print(f\"An error occurred: {e}\")\n",
        "\n",
        "my_string = best_candidate['sequence']\n",
        "file_name = \"final_output_str.txt\"\n",
        "string_to_txt(my_string, file_name)"
      ]
    },
    {
      "cell_type": "code",
      "execution_count": null,
      "metadata": {},
      "outputs": [],
      "source": []
    }
  ],
  "metadata": {
    "colab": {
      "provenance": []
    },
    "kernelspec": {
      "display_name": "bio_env",
      "language": "python",
      "name": "python3"
    },
    "language_info": {
      "codemirror_mode": {
        "name": "ipython",
        "version": 3
      },
      "file_extension": ".py",
      "mimetype": "text/x-python",
      "name": "python",
      "nbconvert_exporter": "python",
      "pygments_lexer": "ipython3",
      "version": "3.11.11"
    }
  },
  "nbformat": 4,
  "nbformat_minor": 0
}
